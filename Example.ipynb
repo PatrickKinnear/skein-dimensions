{
 "cells": [
  {
   "cell_type": "markdown",
   "metadata": {},
   "source": [
    "# Skein dimensions example\n",
    "In this brief notebook we illustrate the usage of the `skeinslib` functionality."
   ]
  },
  {
   "cell_type": "code",
   "execution_count": 1,
   "metadata": {},
   "outputs": [],
   "source": [
    "load(\"skeinslib.sage\")"
   ]
  },
  {
   "cell_type": "markdown",
   "metadata": {},
   "source": [
    "We'll need some matrices."
   ]
  },
  {
   "cell_type": "code",
   "execution_count": 2,
   "metadata": {},
   "outputs": [],
   "source": [
    "I = matrix(ZZ, 2, [1, 0, 0, 1])\n",
    "S = matrix(ZZ, 2, [0, -1, 1, 0])\n",
    "E_plus = matrix(ZZ, 2, [1, -1, 1, 0])\n",
    "E_minus = matrix(ZZ, 2, [0, 1, -1, 1])\n",
    "T = matrix(ZZ, 2, [1, 1, 0, 1])\n",
    "\n",
    "matrices=[I, S, E_plus, E_minus, T]"
   ]
  },
  {
   "cell_type": "markdown",
   "metadata": {},
   "source": [
    "The skein module is made up of two direct summands. The dimension of one of these, which we call the single skein summand, is obtained by this function:"
   ]
  },
  {
   "cell_type": "code",
   "execution_count": 3,
   "metadata": {},
   "outputs": [
    {
     "data": {
      "text/plain": [
       "4"
      ]
     },
     "execution_count": 3,
     "metadata": {},
     "output_type": "execute_result"
    }
   ],
   "source": [
    "get_dim_single_skein(I)"
   ]
  },
  {
   "cell_type": "markdown",
   "metadata": {},
   "source": [
    "The other summand, which we call the empty skein summand, is itself a direct sum of two pieces. Their dimensions are obtained as follows:"
   ]
  },
  {
   "cell_type": "code",
   "execution_count": 4,
   "metadata": {},
   "outputs": [
    {
     "data": {
      "text/plain": [
       "[1, 4]"
      ]
     },
     "execution_count": 4,
     "metadata": {},
     "output_type": "execute_result"
    }
   ],
   "source": [
    "get_dim_empty_skein(I)"
   ]
  },
  {
   "cell_type": "markdown",
   "metadata": {},
   "source": [
    "So we can get data for a whole range of matrices:"
   ]
  },
  {
   "cell_type": "code",
   "execution_count": 5,
   "metadata": {
    "scrolled": true
   },
   "outputs": [
    {
     "name": "stdout",
     "output_type": "stream",
     "text": [
      "[1 0]\n",
      "[0 1]\n",
      "Single skein dimension: 4\n",
      "Empty skein dimensions: [1, 4]\n",
      "Total dimension: 9\n",
      "-------\n",
      "[ 0 -1]\n",
      "[ 1  0]\n",
      "Single skein dimension: 2\n",
      "Empty skein dimensions: [2, 2]\n",
      "Total dimension: 6\n",
      "-------\n",
      "[ 1 -1]\n",
      "[ 1  0]\n",
      "Single skein dimension: 1\n",
      "Empty skein dimensions: [1, 2]\n",
      "Total dimension: 4\n",
      "-------\n",
      "[ 0  1]\n",
      "[-1  1]\n",
      "Single skein dimension: 1\n",
      "Empty skein dimensions: [1, 2]\n",
      "Total dimension: 4\n",
      "-------\n",
      "[1 1]\n",
      "[0 1]\n",
      "Single skein dimension: 2\n",
      "Empty skein dimensions: [1, 3]\n",
      "Total dimension: 6\n",
      "-------\n"
     ]
    }
   ],
   "source": [
    "for M in matrices:\n",
    "    print(M)\n",
    "    single = get_dim_single_skein(M)\n",
    "    empty = get_dim_empty_skein(M)\n",
    "    total = single + sum(empty)\n",
    "    print(\"Single skein dimension: {0}\".format(single))\n",
    "    print(\"Empty skein dimensions: {0}\".format(empty))\n",
    "    print(\"Total dimension: {0}\".format(total))\n",
    "    print(\"-------\")"
   ]
  },
  {
   "cell_type": "markdown",
   "metadata": {},
   "source": [
    "That's fun! Let's do the shears (powers of T)"
   ]
  },
  {
   "cell_type": "code",
   "execution_count": 6,
   "metadata": {},
   "outputs": [
    {
     "name": "stdout",
     "output_type": "stream",
     "text": [
      "[1 0]\n",
      "[0 1]\n",
      "Single skein dimension: 2\n",
      "Empty skein dimensions: [1, 3]\n",
      "Total dimension: 6\n",
      "-------\n",
      "[1 1]\n",
      "[0 1]\n",
      "Single skein dimension: 2\n",
      "Empty skein dimensions: [1, 3]\n",
      "Total dimension: 6\n",
      "-------\n",
      "[1 2]\n",
      "[0 1]\n",
      "Single skein dimension: 2\n",
      "Empty skein dimensions: [1, 3]\n",
      "Total dimension: 6\n",
      "-------\n",
      "[1 3]\n",
      "[0 1]\n",
      "Single skein dimension: 2\n",
      "Empty skein dimensions: [1, 3]\n",
      "Total dimension: 6\n",
      "-------\n",
      "[1 4]\n",
      "[0 1]\n",
      "Single skein dimension: 2\n",
      "Empty skein dimensions: [1, 3]\n",
      "Total dimension: 6\n",
      "-------\n",
      "[1 5]\n",
      "[0 1]\n",
      "Single skein dimension: 2\n",
      "Empty skein dimensions: [1, 3]\n",
      "Total dimension: 6\n",
      "-------\n",
      "[1 6]\n",
      "[0 1]\n",
      "Single skein dimension: 2\n",
      "Empty skein dimensions: [1, 3]\n",
      "Total dimension: 6\n",
      "-------\n",
      "[1 7]\n",
      "[0 1]\n",
      "Single skein dimension: 2\n",
      "Empty skein dimensions: [1, 3]\n",
      "Total dimension: 6\n",
      "-------\n",
      "[1 8]\n",
      "[0 1]\n",
      "Single skein dimension: 2\n",
      "Empty skein dimensions: [1, 3]\n",
      "Total dimension: 6\n",
      "-------\n",
      "[1 9]\n",
      "[0 1]\n",
      "Single skein dimension: 2\n",
      "Empty skein dimensions: [1, 3]\n",
      "Total dimension: 6\n",
      "-------\n"
     ]
    }
   ],
   "source": [
    "for n in range(10):\n",
    "    print(T**n)\n",
    "    single = get_dim_single_skein(M)\n",
    "    empty = get_dim_empty_skein(M)\n",
    "    total = single + sum(empty)\n",
    "    print(\"Single skein dimension: {0}\".format(single))\n",
    "    print(\"Empty skein dimensions: {0}\".format(empty))\n",
    "    print(\"Total dimension: {0}\".format(total))\n",
    "    print(\"-------\")"
   ]
  },
  {
   "cell_type": "markdown",
   "metadata": {},
   "source": [
    "Other conjugacy classes in SL_2(Z) are indexed by even length sequences up to cyclic permutation. You can see how we build them up by looking at `compute_write_from_seq`. The rest of the `skeinslib` file handles generating data for different conjugacy classes automatically, and saving the results as a csv or easily-readable table."
   ]
  },
  {
   "cell_type": "code",
   "execution_count": null,
   "metadata": {},
   "outputs": [],
   "source": []
  }
 ],
 "metadata": {
  "kernelspec": {
   "display_name": "SageMath 9.2",
   "language": "sage",
   "name": "sagemath"
  },
  "language_info": {
   "codemirror_mode": {
    "name": "ipython",
    "version": 3
   },
   "file_extension": ".py",
   "mimetype": "text/x-python",
   "name": "python",
   "nbconvert_exporter": "python",
   "pygments_lexer": "ipython3",
   "version": "3.8.5"
  }
 },
 "nbformat": 4,
 "nbformat_minor": 4
}
