{
 "cells": [
  {
   "cell_type": "code",
   "execution_count": 1,
   "metadata": {},
   "outputs": [],
   "source": [
    "load(\"skeinslib.sage\")"
   ]
  },
  {
   "cell_type": "code",
   "execution_count": 2,
   "metadata": {},
   "outputs": [],
   "source": [
    "T = matrix(ZZ, 2, [1, 1, 0, 1])"
   ]
  },
  {
   "cell_type": "code",
   "execution_count": 3,
   "metadata": {},
   "outputs": [
    {
     "data": {
      "text/plain": [
       "[1 1]\n",
       "[0 1]"
      ]
     },
     "execution_count": 3,
     "metadata": {},
     "output_type": "execute_result"
    }
   ],
   "source": [
    "T"
   ]
  },
  {
   "cell_type": "code",
   "execution_count": 5,
   "metadata": {},
   "outputs": [
    {
     "name": "stdout",
     "output_type": "stream",
     "text": [
      "Calculating relations for level 4 (41 lattice points) ...\n",
      "Found 182 (non-independent) relations. Reducing ...\n",
      "Calculating relations for level 3 (25 lattice points) ...\n",
      "Found 77 (non-independent) relations. Reducing ...\n",
      "Calculating relations for level 2 (13 lattice points) ...\n",
      "Found 23 (non-independent) relations. Reducing ...\n",
      "Calculating relations for level 1 (5 lattice points) ...\n",
      "Found 3 (non-independent) relations.\n",
      "\n",
      "Dimension estimate for empty skein part at level 1: 2.\n",
      "\n",
      "Visualisation:\n",
      "\n",
      ". | . \n",
      "- x x \n",
      ". | . \n",
      "\n",
      "Dimension estimate for empty skein part at level 2: 0.\n",
      "\n",
      "Visualisation:\n",
      "\n",
      ". . | . . \n",
      ". . | . . \n",
      "- - + - - \n",
      ". . | . . \n",
      ". . | . . \n",
      "\n",
      "Dimension estimate for empty skein part at level 3: 0.\n",
      "\n",
      "Visualisation:\n",
      "\n",
      ". . . | . . . \n",
      ". . . | . . . \n",
      ". . . | . . . \n",
      "- - - + - - - \n",
      ". . . | . . . \n",
      ". . . | . . . \n",
      ". . . | . . . \n",
      "\n",
      "Dimension estimate for empty skein part at level 4: 0.\n",
      "\n",
      "Visualisation:\n",
      "\n",
      ". . . . | . . . . \n",
      ". . . . | . . . . \n",
      ". . . . | . . . . \n",
      ". . . . | . . . . \n",
      "- - - - + - - - - \n",
      ". . . . | . . . . \n",
      ". . . . | . . . . \n",
      ". . . . | . . . . \n",
      ". . . . | . . . . \n",
      "\n"
     ]
    },
    {
     "data": {
      "text/plain": [
       "(285 x 41 sparse matrix over Fraction Field of Sparse Univariate Polynomial Ring in q over Rational Field,\n",
       " 285 x 41 sparse matrix over Fraction Field of Sparse Univariate Polynomial Ring in q over Rational Field,\n",
       " [2, 0, 0, 0])"
      ]
     },
     "execution_count": 5,
     "metadata": {},
     "output_type": "execute_result"
    }
   ],
   "source": [
    "compute_reduced_matrix(T, 4, True)"
   ]
  },
  {
   "cell_type": "code",
   "execution_count": 6,
   "metadata": {},
   "outputs": [],
   "source": [
    "rels = get_relations_empty(T, 2, order_by_shell_level)"
   ]
  },
  {
   "cell_type": "code",
   "execution_count": 7,
   "metadata": {},
   "outputs": [
    {
     "data": {
      "text/plain": [
       "{((0, 0), (-1, 1)): (0, 2, -2, 0, 0, 0, 0, 0, 0, 0, 0, 0, 0),\n",
       " ((0, 0), (0, 1)): (0, 0, 2, -2, 0, 0, 0, 0, 0, 0, 0, 0, 0),\n",
       " ((0, 0), (1, 1)): (0, 0, 0, 2, 0, 0, 0, 0, 0, 0, -2, 0, 0),\n",
       " ((0, 0), (-2, 2)): (0, 0, 0, 0, 0, 2, 0, -2/q, 0, 0, 0, 0, 0),\n",
       " ((0, 0), (-1, 2)): (0, 0, 0, 0, 0, 0, 2, 0, -2/q, 0, 0, 0, 0),\n",
       " ((0, 0), (0, 2)): (0, 0, 0, 0, 0, 0, 0, 2, 0, -2/q, 0, 0, 0),\n",
       " ((0, 0), (2, -1)): (0, -2/q, 0, 0, 0, 0, 0, 0, 0, 0, 0, 0, 2),\n",
       " ((-1, 1), (-1, 1)): (1/q, 0, 0, 0, -1/q, q, -q, 0, 0, 0, 0, 0, 0),\n",
       " ((-1, 1), (0, 1)): (0, 0, 0, 0, 1, 0, 1, -q, 0, 0, 0, -1/q, 0),\n",
       " ((-1, 1), (1, 0)): (0, 0, 1/q - 1, 0, 0, 0, 0, 0, 0, 0, 0, 0, q - 1),\n",
       " ((0, 1), (-1, 1)): (-1, 0, 0, 0, 1/q, 0, q, -1, 0, 0, 0, 0, 0),\n",
       " ((0, 1), (0, 1)): (1, 0, 0, 0, -1, 0, 0, 1, -1, 0, 0, 0, 0),\n",
       " ((0, 1), (1, 1)): (0, 0, 0, 0, q, 0, 0, 0, 1/q, -1, 0, -1, 0),\n",
       " ((0, 1), (1, 0)): (0, q - 1, 0, 1/q - 1, 0, 0, 0, 0, 0, 0, 0, 0, 0),\n",
       " ((0, 1), (2, 0)): (0, 0, 0, 0, 0, 0, 0, 0, 0, 0, 1/q^2 - 1, 0, q^2 - 1),\n",
       " ((0, 1), (2, -1)): (0, 0, 0, 0, -1/q, q^2, -1/q, 0, 0, 0, 0, q^(-2), 0),\n",
       " ((1, 1), (-1, 1)): (0, 0, 0, 0, -q, 0, 0, q, -1/q, 0, 0, 1/q, 0),\n",
       " ((1, 1), (0, 1)): (-q, 0, 0, 0, 1, 0, 0, 0, 1, -1/q, 0, 0, 0),\n",
       " ((1, 1), (1, 0)): (0, 0, q - 1, 0, 0, 0, 0, 0, 0, 0, 1/q - 1, 0, 0),\n",
       " ((1, 0), (-1, 1)): (0, -q, 1, -1/q, 0, 0, 0, 0, 0, 0, 0, 0, 1),\n",
       " ((1, 0), (0, 1)): (0, 1, -q, 1, 0, 0, 0, 0, 0, 0, -1/q, 0, 0),\n",
       " ((1, 0), (-1, 2)): (0, 0, 0, 0, 0, 1, 0, -q + 1, 0, -1/q^3, 0, 0, 0),\n",
       " ((-1, 2), (1, 0)): (0, 0, 0, 0, 0, q^2 - 1, 0, 1/q^2 - 1, 0, 0, 0, 0, 0),\n",
       " ((0, 2), (1, 0)): (0, 0, 0, 0, 0, 0, q^2 - 1, 0, 1/q^2 - 1, 0, 0, 0, 0),\n",
       " ((0, 2), (2, 0)): (0, 0, 0, 0, 0, q^4 - 1, 0, 0, 0, 1/q^4 - 1, 0, 0, 0),\n",
       " ((1, 2), (1, 0)): (0, 0, 0, 0, 0, 0, 0, q^2 - 1, 0, 1/q^2 - 1, 0, 0, 0)}"
      ]
     },
     "execution_count": 7,
     "metadata": {},
     "output_type": "execute_result"
    }
   ],
   "source": [
    "rels"
   ]
  },
  {
   "cell_type": "code",
   "execution_count": 10,
   "metadata": {},
   "outputs": [
    {
     "data": {
      "text/plain": [
       "[(1, (-1, 1)), (1, (-1, 1)), (-1, (0, 1)), (-1, (0, 1))]"
      ]
     },
     "execution_count": 10,
     "metadata": {},
     "output_type": "execute_result"
    }
   ],
   "source": [
    "get_relation(T, vector(ZZ, [0, 0], immutable=True), vector(ZZ, [-1, 1]))"
   ]
  },
  {
   "cell_type": "code",
   "execution_count": 11,
   "metadata": {},
   "outputs": [
    {
     "data": {
      "text/plain": [
       "(0, 1)"
      ]
     },
     "execution_count": 11,
     "metadata": {},
     "output_type": "execute_result"
    }
   ],
   "source": [
    "T*vector(ZZ, [-1, 1])"
   ]
  },
  {
   "cell_type": "code",
   "execution_count": 12,
   "metadata": {},
   "outputs": [],
   "source": [
    "ordr = order_by_shell_level(2)"
   ]
  },
  {
   "cell_type": "code",
   "execution_count": 14,
   "metadata": {},
   "outputs": [
    {
     "data": {
      "text/plain": [
       "11"
      ]
     },
     "execution_count": 14,
     "metadata": {},
     "output_type": "execute_result"
    }
   ],
   "source": [
    "ordr[vector(ZZ, [2, 0], immutable=True)]"
   ]
  },
  {
   "cell_type": "code",
   "execution_count": 16,
   "metadata": {},
   "outputs": [
    {
     "name": "stdout",
     "output_type": "stream",
     "text": [
      "((-1, 1), (0, 1)) (0, 0, 0, 0, 1, 0, 1, -q, 0, 0, 0, -1/q, 0)\n",
      "((0, 1), (1, 1)) (0, 0, 0, 0, q, 0, 0, 0, 1/q, -1, 0, -1, 0)\n",
      "((0, 1), (2, -1)) (0, 0, 0, 0, -1/q, q^2, -1/q, 0, 0, 0, 0, q^(-2), 0)\n",
      "((1, 1), (-1, 1)) (0, 0, 0, 0, -q, 0, 0, q, -1/q, 0, 0, 1/q, 0)\n"
     ]
    }
   ],
   "source": [
    "for r in rels:\n",
    "    if rels[r][11] != 0:\n",
    "        print(r, rels[r])"
   ]
  },
  {
   "cell_type": "code",
   "execution_count": 21,
   "metadata": {},
   "outputs": [
    {
     "name": "stdout",
     "output_type": "stream",
     "text": [
      "((-1, 1), (1, 1)) (0, 0, 0, 0, 0, 0, 0, 1/q, -q, 0, 0, q, 0, 0, 0, 0, 0, 0, 0, 0, 0, 0, -1/q, 0, 0)\n",
      "((0, 1), (2, 1)) (0, 0, 0, 0, 0, 0, 0, 0, 0, q^(-2), 0, q^2, 0, 0, 0, 0, 0, 0, 0, 0, -1, 0, -1, 0, 0)\n",
      "((0, 1), (3, -1)) (0, 0, 0, 0, 0, -1/q, 0, 0, 0, 0, 0, -1/q, 0, 0, 0, 0, 0, 0, 0, 0, 0, 0, q^(-3), 0, q^3)\n",
      "((1, 1), (2, -1)) (0, 0, 0, 0, 0, 0, q^2, -1/q^2, 0, 0, 0, -1, 0, 0, 0, 0, 0, 0, 0, 0, 0, 0, q^(-2), 0, 0)\n",
      "((2, 1), (-1, 1)) (0, 0, 0, 0, 0, 0, 0, 0, q, -1/q^2, 0, -q^2, 0, 0, 0, 0, 0, 0, 0, 0, 0, 0, 1/q, 0, 0)\n",
      "((2, -1), (0, 1)) (0, 0, 0, 0, 0, 1, -q^2, 0, 0, 0, 0, 1, 0, 0, 0, 0, 0, 0, 0, 0, 0, 0, -1/q^2, 0, 0)\n"
     ]
    }
   ],
   "source": [
    "rels3 = get_relations_empty(T, 3, order_by_shell_level)\n",
    "ordr3 = order_by_shell_level(3)\n",
    "i = ordr3[vector(ZZ, [3, 0], immutable=True)]\n",
    "for r in rels3:\n",
    "    if rels3[r][i] != 0:\n",
    "        print(r, rels3[r])"
   ]
  },
  {
   "cell_type": "code",
   "execution_count": 30,
   "metadata": {},
   "outputs": [
    {
     "data": {
      "text/plain": [
       "[(q^(-4), (4, 0)), (q^4, (4, -2)), (-1/q, (3, 0)), (-1/q, (3, -2))]"
      ]
     },
     "execution_count": 30,
     "metadata": {},
     "output_type": "execute_result"
    }
   ],
   "source": [
    "get_relation(T, vector(ZZ, [0, 1], immutable=True), vector(ZZ, [4, -1], immutable=True))"
   ]
  },
  {
   "cell_type": "code",
   "execution_count": 24,
   "metadata": {},
   "outputs": [
    {
     "data": {
      "text/plain": [
       "(2, 0)"
      ]
     },
     "execution_count": 24,
     "metadata": {},
     "output_type": "execute_result"
    }
   ],
   "source": [
    "T*vector(ZZ, [2, 0], immutable=True)"
   ]
  },
  {
   "cell_type": "code",
   "execution_count": 28,
   "metadata": {},
   "outputs": [
    {
     "data": {
      "text/plain": [
       "(3, -1)"
      ]
     },
     "execution_count": 28,
     "metadata": {},
     "output_type": "execute_result"
    }
   ],
   "source": [
    "vector(ZZ, [4, -1], immutable=True)*T.T"
   ]
  },
  {
   "cell_type": "code",
   "execution_count": 34,
   "metadata": {},
   "outputs": [
    {
     "name": "stdout",
     "output_type": "stream",
     "text": [
      "[(q^(-2), (1, 0)), (q^2, (3, -2)), (-1/q^2, (0, 0)), (-1, (-2, 2))]\n",
      "[(q^(-3), (2, 0)), (q^3, (4, -2)), (-1/q^2, (1, 0)), (-1, (3, -2))]\n",
      "[(q^(-4), (3, 0)), (q^4, (5, -2)), (-1/q^2, (2, 0)), (-1, (4, -2))]\n",
      "[(q^(-5), (4, 0)), (q^5, (6, -2)), (-1/q^2, (3, 0)), (-1, (5, -2))]\n"
     ]
    }
   ],
   "source": [
    "for i in range(0, 6):\n",
    "    print(get_relation(T, vector(ZZ, [0, 1], immutable=True), vector(ZZ, [i, -1], immutable=True)))"
   ]
  },
  {
   "cell_type": "code",
   "execution_count": 38,
   "metadata": {},
   "outputs": [
    {
     "name": "stdout",
     "output_type": "stream",
     "text": [
      "[(q^(-2), (3, 0)), (q^2, (-1, 2)), (-1, (2, 0)), (-1/q^2, (0, 2))]\n",
      "[(q^(-3), (4, 0)), (q^3, (-2, 2)), (-1, (3, 0)), (-1/q^2, (-1, 2))]\n",
      "[(q^(-4), (5, 0)), (q^4, (3, -2)), (-1, (4, 0)), (-1/q^2, (-2, 2))]\n",
      "[(q^(-5), (6, 0)), (q^5, (4, -2)), (-1, (5, 0)), (-1/q^2, (3, -2))]\n",
      "[(q^(-6), (7, 0)), (q^6, (5, -2)), (-1, (6, 0)), (-1/q^2, (4, -2))]\n"
     ]
    }
   ],
   "source": [
    "for i in range(2, 7):\n",
    "    print(get_relation(T, vector(ZZ, [1, 1], immutable=True), vector(ZZ, [i, -1], immutable=True)))"
   ]
  },
  {
   "cell_type": "code",
   "execution_count": 41,
   "metadata": {},
   "outputs": [
    {
     "data": {
      "text/plain": [
       "(0, 5)"
      ]
     },
     "execution_count": 41,
     "metadata": {},
     "output_type": "execute_result"
    }
   ],
   "source": [
    "T*vector(ZZ, [-5, 5])"
   ]
  },
  {
   "cell_type": "code",
   "execution_count": 43,
   "metadata": {},
   "outputs": [
    {
     "data": {
      "text/plain": [
       "[(1/q, (1, 0)), (q, (3, -2)), (-1/q^2, (2, 0)), (-q^2, (-2, 2))]"
      ]
     },
     "execution_count": 43,
     "metadata": {},
     "output_type": "execute_result"
    }
   ],
   "source": [
    "get_relation(T, vector(ZZ, [2, -1], immutable=True), vector(ZZ, [-1, 1], immutable=True))"
   ]
  },
  {
   "cell_type": "code",
   "execution_count": 45,
   "metadata": {},
   "outputs": [
    {
     "name": "stdout",
     "output_type": "stream",
     "text": [
      "[(1/q, (1, 0)), (q, (3, -2)), (-1/q^2, (2, 0)), (-q^2, (-2, 2))]\n",
      "[(q^(-4), (1, 0)), (q^4, (5, -4)), (-1/q^7, (3, 0)), (-q^5, (-3, 4))]\n",
      "[(q^(-9), (1, 0)), (q^9, (7, -6)), (-1/q^15, (4, 0)), (-q^9, (-4, 6))]\n",
      "[(q^(-16), (1, 0)), (q^16, (9, -8)), (-1/q^26, (5, 0)), (-q^14, (-5, 8))]\n"
     ]
    }
   ],
   "source": [
    "for i in range(2, 6):\n",
    "    print(get_relation(T, vector(ZZ, [i, -i+1], immutable=True), vector(ZZ, [-(i-1), (i-1)], immutable=True)))"
   ]
  },
  {
   "cell_type": "code",
   "execution_count": 52,
   "metadata": {},
   "outputs": [
    {
     "data": {
      "text/plain": [
       "[(q^(-2), (-1, 2)), (q^2, (3, -2)), (-1, (-1, 2)), (-1, (3, -2))]"
      ]
     },
     "execution_count": 52,
     "metadata": {},
     "output_type": "execute_result"
    }
   ],
   "source": [
    "get_relation(T, vector(ZZ, [-2, 2], immutable=True), vector(ZZ, [1, 0], immutable=True))"
   ]
  },
  {
   "cell_type": "code",
   "execution_count": 49,
   "metadata": {},
   "outputs": [
    {
     "name": "stdout",
     "output_type": "stream",
     "text": [
      "((0, 0), (3, -2)) (0, 0, 0, 0, 0, 0, -2/q^3, 0, 0, 0, 0, 0, 0, 0, 0, 0, 0, 0, 0, 0, 0, 0, 0, 0, 2)\n",
      "((-1, 1), (2, -1)) (-1/q^2, 0, 0, 0, q^(-2), -1, 0, 0, 0, 0, 0, 0, 0, 0, 0, 0, 0, 0, 0, 0, 0, 0, 0, 0, q^2)\n",
      "((0, 1), (3, -1)) (0, 0, 0, 0, 0, -1/q, 0, 0, 0, 0, 0, -1/q, 0, 0, 0, 0, 0, 0, 0, 0, 0, 0, q^(-3), 0, q^3)\n",
      "((1, 0), (-2, 2)) (0, 0, 0, 0, 0, 0, -q + 1, 0, -1/q^3, 0, 0, 0, 0, 0, 0, 0, 0, 0, 0, 0, 0, 0, 0, 0, 1)\n",
      "((-2, 2), (1, 0)) (0, 0, 0, 0, 0, 0, 1/q^2 - 1, 0, 0, 0, 0, 0, 0, 0, 0, 0, 0, 0, 0, 0, 0, 0, 0, 0, q^2 - 1)\n",
      "((-1, 2), (2, 0)) (0, 0, 0, 0, 0, 0, 0, 0, 1/q^4 - 1, 0, 0, 0, 0, 0, 0, 0, 0, 0, 0, 0, 0, 0, 0, 0, q^4 - 1)\n",
      "((0, 2), (3, 0)) (0, 0, 0, 0, 0, 0, 0, 0, 0, 0, 0, 0, 0, 0, 0, 0, 0, 0, 0, 0, 1/q^6 - 1, 0, 0, 0, q^6 - 1)\n",
      "((2, 0), (-1, 2)) (0, 0, 0, 0, 0, 0, -q^3, 0, 1, 0, 0, 0, 0, 0, 0, 0, 0, 0, 0, 0, -1/q^5, 0, 0, 0, 1)\n",
      "((2, -1), (-1, 1)) (0, 0, 0, 0, 1/q, -q^2, 0, 0, 0, 0, 0, -1/q^2, 0, 0, 0, 0, 0, 0, 0, 0, 0, 0, 0, 0, q)\n"
     ]
    }
   ],
   "source": [
    "rels3 = get_relations_empty(T, 3, order_by_shell_level)\n",
    "ordr3 = order_by_shell_level(3)\n",
    "i = ordr3[vector(ZZ, [3, -2], immutable=True)]\n",
    "for r in rels3:\n",
    "    if rels3[r][i] != 0:\n",
    "        print(r, rels3[r])"
   ]
  },
  {
   "cell_type": "code",
   "execution_count": 51,
   "metadata": {},
   "outputs": [
    {
     "data": {
      "text/plain": [
       "(-1, 2)"
      ]
     },
     "execution_count": 51,
     "metadata": {},
     "output_type": "execute_result"
    }
   ],
   "source": [
    "list(ordr3.keys())[6]"
   ]
  },
  {
   "cell_type": "code",
   "execution_count": 8,
   "metadata": {},
   "outputs": [
    {
     "data": {
      "text/plain": [
       "[(1, (0, 5)), (1, (0, 3)), (-1, (1, 5)), (-1, (-1, 3))]"
      ]
     },
     "execution_count": 8,
     "metadata": {},
     "output_type": "execute_result"
    }
   ],
   "source": [
    "get_relation(T, vector(ZZ, [0, 4], immutable=True), vector(ZZ, [0, 1], immutable=True))"
   ]
  },
  {
   "cell_type": "code",
   "execution_count": 12,
   "metadata": {},
   "outputs": [
    {
     "data": {
      "text/plain": [
       "[(q^5, (0, 6)), (q^(-5), (2, 4)), (-1/q, (1, 6)), (-q, (1, 4))]"
      ]
     },
     "execution_count": 12,
     "metadata": {},
     "output_type": "execute_result"
    }
   ],
   "source": [
    "get_relation(T, vector(ZZ, [1, 5], immutable=True), vector(ZZ, [-1, 1], immutable=True))"
   ]
  },
  {
   "cell_type": "code",
   "execution_count": 18,
   "metadata": {},
   "outputs": [
    {
     "data": {
      "text/plain": [
       "[(q, (0, 2)), (1/q, (2, 0)), (-1/q, (1, 2)), (-q, (1, 0))]"
      ]
     },
     "execution_count": 18,
     "metadata": {},
     "output_type": "execute_result"
    }
   ],
   "source": [
    "get_relation(T, vector(ZZ, [1, 1], immutable=True), vector(ZZ, [-1, 1], immutable=True))"
   ]
  },
  {
   "cell_type": "code",
   "execution_count": 72,
   "metadata": {},
   "outputs": [
    {
     "data": {
      "text/plain": [
       "[(1, (1, 0)), (1, (1, 2)), (-1, (0, 0)), (-1/q^2, (2, 2))]"
      ]
     },
     "execution_count": 72,
     "metadata": {},
     "output_type": "execute_result"
    }
   ],
   "source": [
    "get_relation(T, vector(ZZ, [1, 1], immutable=True), vector(ZZ, [0, -1], immutable=True))"
   ]
  },
  {
   "cell_type": "code",
   "execution_count": 5,
   "metadata": {},
   "outputs": [
    {
     "data": {
      "text/plain": [
       "[(1, (0, 2)), (1, (0, 0)), (-1/q, (1, 2)), (-1/q, (1, 0))]"
      ]
     },
     "execution_count": 5,
     "metadata": {},
     "output_type": "execute_result"
    }
   ],
   "source": [
    "get_relation(T, vector(ZZ, [0, -1], immutable=True), vector(ZZ, [0, -1], immutable=True))"
   ]
  },
  {
   "cell_type": "code",
   "execution_count": 16,
   "metadata": {},
   "outputs": [
    {
     "data": {
      "text/plain": [
       "[(1/q, (0, 1)), (q, (2, -1)), (-1, (0, 1)), (-1, (2, -1))]"
      ]
     },
     "execution_count": 16,
     "metadata": {},
     "output_type": "execute_result"
    }
   ],
   "source": [
    "get_relation(T, vector(ZZ, [-1, 1], immutable=True), vector(ZZ, [1, 0], immutable=True))"
   ]
  },
  {
   "cell_type": "code",
   "execution_count": 65,
   "metadata": {},
   "outputs": [
    {
     "name": "stdout",
     "output_type": "stream",
     "text": [
      "((0, 0), (-1, 1)) (0, 2, -2, 0, 0, 0, 0, 0, 0, 0, 0, 0, 0)\n",
      "((0, 0), (0, 1)) (0, 0, 2, -2, 0, 0, 0, 0, 0, 0, 0, 0, 0)\n",
      "((-1, 1), (1, 0)) (0, 0, 1/q - 1, 0, 0, 0, 0, 0, 0, 0, 0, 0, q - 1)\n",
      "((1, 1), (1, 0)) (0, 0, q - 1, 0, 0, 0, 0, 0, 0, 0, 1/q - 1, 0, 0)\n",
      "((1, 0), (-1, 1)) (0, -q, 1, -1/q, 0, 0, 0, 0, 0, 0, 0, 0, 1)\n",
      "((1, 0), (0, 1)) (0, 1, -q, 1, 0, 0, 0, 0, 0, 0, -1/q, 0, 0)\n"
     ]
    }
   ],
   "source": [
    "rels3 = get_relations_empty(T, 2, order_by_shell_level)\n",
    "ordr3 = order_by_shell_level(2)\n",
    "i = ordr3[vector(ZZ, [0, 1], immutable=True)]\n",
    "for r in rels3:\n",
    "    if rels3[r][i] != 0:\n",
    "        print(r, rels3[r])"
   ]
  },
  {
   "cell_type": "code",
   "execution_count": 75,
   "metadata": {},
   "outputs": [
    {
     "name": "stdout",
     "output_type": "stream",
     "text": [
      "[(1/q, (0, 1)), (q, (2, -1)), (-1, (0, 1)), (-1, (2, -1))]\n",
      "[(1/q, (2, 1)), (q, (0, 1)), (-1, (2, 1)), (-1, (0, 1))]\n"
     ]
    }
   ],
   "source": [
    "print(get_relation(T, vector(ZZ, [-1, 1], immutable=True), vector(ZZ, [1, 0], immutable=True)))\n",
    "print(get_relation(T, vector(ZZ, [1, 1], immutable=True), vector(ZZ, [1, 0], immutable=True)))"
   ]
  },
  {
   "cell_type": "code",
   "execution_count": 76,
   "metadata": {},
   "outputs": [
    {
     "name": "stdout",
     "output_type": "stream",
     "text": [
      "Calculating relations for level 4 (41 lattice points) ...\n",
      "Found 128 (non-independent) relations. Reducing ...\n",
      "Calculating relations for level 3 (25 lattice points) ...\n",
      "Found 54 (non-independent) relations. Reducing ...\n",
      "Calculating relations for level 2 (13 lattice points) ...\n",
      "Found 16 (non-independent) relations. Reducing ...\n",
      "Calculating relations for level 1 (5 lattice points) ...\n",
      "Found 2 (non-independent) relations.\n",
      "\n",
      "Dimension estimate for empty skein part at level 1: 3.\n",
      "\n",
      "Visualisation:\n",
      "\n",
      ". x . \n",
      "- x x \n",
      ". | . \n",
      "\n",
      "Dimension estimate for empty skein part at level 2: 1.\n",
      "\n",
      "Visualisation:\n",
      "\n",
      ". . | . . \n",
      ". . | . . \n",
      "- - + x - \n",
      ". . | . . \n",
      ". . | . . \n",
      "\n",
      "Dimension estimate for empty skein part at level 3: 0.\n",
      "\n",
      "Visualisation:\n",
      "\n",
      ". . . | . . . \n",
      ". . . | . . . \n",
      ". . . | . . . \n",
      "- - - + - - - \n",
      ". . . | . . . \n",
      ". . . | . . . \n",
      ". . . | . . . \n",
      "\n",
      "Dimension estimate for empty skein part at level 4: 0.\n",
      "\n",
      "Visualisation:\n",
      "\n",
      ". . . . | . . . . \n",
      ". . . . | . . . . \n",
      ". . . . | . . . . \n",
      ". . . . | . . . . \n",
      "- - - - + - - - - \n",
      ". . . . | . . . . \n",
      ". . . . | . . . . \n",
      ". . . . | . . . . \n",
      ". . . . | . . . . \n",
      "\n"
     ]
    },
    {
     "data": {
      "text/plain": [
       "(200 x 41 sparse matrix over Fraction Field of Sparse Univariate Polynomial Ring in q over Rational Field,\n",
       " 200 x 41 sparse matrix over Fraction Field of Sparse Univariate Polynomial Ring in q over Rational Field,\n",
       " [3, 1, 0, 0])"
      ]
     },
     "execution_count": 76,
     "metadata": {},
     "output_type": "execute_result"
    }
   ],
   "source": [
    "compute_reduced_matrix(T*T, 4, True)"
   ]
  },
  {
   "cell_type": "code",
   "execution_count": 77,
   "metadata": {},
   "outputs": [
    {
     "name": "stdout",
     "output_type": "stream",
     "text": [
      "Calculating relations for level 4 (41 lattice points) ...\n",
      "Found 93 (non-independent) relations. Reducing ...\n",
      "Calculating relations for level 3 (25 lattice points) ...\n",
      "Found 39 (non-independent) relations. Reducing ...\n",
      "Calculating relations for level 2 (13 lattice points) ...\n",
      "Found 11 (non-independent) relations. Reducing ...\n",
      "Calculating relations for level 1 (5 lattice points) ...\n",
      "Found 1 (non-independent) relations.\n",
      "\n",
      "Dimension estimate for empty skein part at level 1: 4.\n",
      "\n",
      "Visualisation:\n",
      "\n",
      "x x . \n",
      "- x x \n",
      ". | . \n",
      "\n",
      "Dimension estimate for empty skein part at level 2: 5.\n",
      "\n",
      "Visualisation:\n",
      "\n",
      "x x | . . \n",
      ". x | . . \n",
      "- - x x - \n",
      ". . | . . \n",
      ". . | . . \n",
      "\n",
      "Dimension estimate for empty skein part at level 3: 2.\n",
      "\n",
      "Visualisation:\n",
      "\n",
      ". . . | . . . \n",
      ". x . | . . . \n",
      ". . . | . . . \n",
      "- - - x - - - \n",
      ". . . | . . . \n",
      ". . . | . . . \n",
      ". . . | . . . \n",
      "\n",
      "Dimension estimate for empty skein part at level 4: 0.\n",
      "\n",
      "Visualisation:\n",
      "\n",
      ". . . . | . . . . \n",
      ". . . . | . . . . \n",
      ". . . . | . . . . \n",
      ". . . . | . . . . \n",
      "- - - - + - - - - \n",
      ". . . . | . . . . \n",
      ". . . . | . . . . \n",
      ". . . . | . . . . \n",
      ". . . . | . . . . \n",
      "\n"
     ]
    },
    {
     "data": {
      "text/plain": [
       "(144 x 41 sparse matrix over Fraction Field of Sparse Univariate Polynomial Ring in q over Rational Field,\n",
       " 144 x 41 sparse matrix over Fraction Field of Sparse Univariate Polynomial Ring in q over Rational Field,\n",
       " [4, 5, 2, 0])"
      ]
     },
     "execution_count": 77,
     "metadata": {},
     "output_type": "execute_result"
    }
   ],
   "source": [
    "compute_reduced_matrix(T^3, 4, True)"
   ]
  },
  {
   "cell_type": "code",
   "execution_count": 21,
   "metadata": {},
   "outputs": [],
   "source": [
    "M_0 = matrix(ZZ, 2, [1, -1, 1, 0])"
   ]
  },
  {
   "cell_type": "code",
   "execution_count": 22,
   "metadata": {},
   "outputs": [
    {
     "name": "stdout",
     "output_type": "stream",
     "text": [
      "Calculating relations for level 5 (61 lattice points) ...\n",
      "Found 295 (non-independent) relations. Reducing ...\n",
      "Calculating relations for level 4 (41 lattice points) ...\n",
      "Found 152 (non-independent) relations. Reducing ...\n",
      "Calculating relations for level 3 (25 lattice points) ...\n",
      "Found 65 (non-independent) relations. Reducing ...\n",
      "Calculating relations for level 2 (13 lattice points) ...\n",
      "Found 20 (non-independent) relations. Reducing ...\n",
      "Calculating relations for level 1 (5 lattice points) ...\n",
      "Found 3 (non-independent) relations.\n",
      "\n",
      "Dimension estimate for empty skein part at level 1: 2.\n",
      "\n",
      "Visualisation:\n",
      "\n",
      "x | . \n",
      "- x - \n",
      ". | . \n",
      "\n",
      "Dimension estimate for empty skein part at level 2: 1.\n",
      "\n",
      "Visualisation:\n",
      "\n",
      "x . | . . \n",
      ". . | . . \n",
      "- - + - - \n",
      ". . | . . \n",
      ". . | . . \n",
      "\n",
      "Dimension estimate for empty skein part at level 3: 1.\n",
      "\n",
      "Visualisation:\n",
      "\n",
      "x . . | . . . \n",
      ". . . | . . . \n",
      ". . . | . . . \n",
      "- - - + - - - \n",
      ". . . | . . . \n",
      ". . . | . . . \n",
      ". . . | . . . \n",
      "\n",
      "Dimension estimate for empty skein part at level 4: 1.\n",
      "\n",
      "Visualisation:\n",
      "\n",
      "x . . . | . . . . \n",
      ". . . . | . . . . \n",
      ". . . . | . . . . \n",
      ". . . . | . . . . \n",
      "- - - - + - - - - \n",
      ". . . . | . . . . \n",
      ". . . . | . . . . \n",
      ". . . . | . . . . \n",
      ". . . . | . . . . \n",
      "\n",
      "Dimension estimate for empty skein part at level 5: 1.\n",
      "\n",
      "Visualisation:\n",
      "\n",
      "x . . . . | . . . . . \n",
      ". . . . . | . . . . . \n",
      ". . . . . | . . . . . \n",
      ". . . . . | . . . . . \n",
      ". . . . . | . . . . . \n",
      "- - - - - + - - - - - \n",
      ". . . . . | . . . . . \n",
      ". . . . . | . . . . . \n",
      ". . . . . | . . . . . \n",
      ". . . . . | . . . . . \n",
      ". . . . . | . . . . . \n",
      "\n"
     ]
    },
    {
     "data": {
      "text/plain": [
       "(535 x 61 sparse matrix over Fraction Field of Sparse Univariate Polynomial Ring in q over Rational Field,\n",
       " 535 x 61 sparse matrix over Fraction Field of Sparse Univariate Polynomial Ring in q over Rational Field,\n",
       " [2, 1, 1, 1, 1])"
      ]
     },
     "execution_count": 22,
     "metadata": {},
     "output_type": "execute_result"
    }
   ],
   "source": [
    "compute_reduced_matrix(M_0, 5, True)"
   ]
  },
  {
   "cell_type": "code",
   "execution_count": 24,
   "metadata": {},
   "outputs": [
    {
     "data": {
      "text/plain": [
       "1"
      ]
     },
     "execution_count": 24,
     "metadata": {},
     "output_type": "execute_result"
    }
   ],
   "source": [
    "get_dim_single_skein(M_0)"
   ]
  },
  {
   "cell_type": "code",
   "execution_count": 25,
   "metadata": {},
   "outputs": [],
   "source": [
    "S = matrix(ZZ, 2, [0, -1, 1, 0])"
   ]
  },
  {
   "cell_type": "code",
   "execution_count": 26,
   "metadata": {},
   "outputs": [
    {
     "data": {
      "text/plain": [
       "2"
      ]
     },
     "execution_count": 26,
     "metadata": {},
     "output_type": "execute_result"
    }
   ],
   "source": [
    "get_dim_single_skein(S)"
   ]
  },
  {
   "cell_type": "code",
   "execution_count": null,
   "metadata": {},
   "outputs": [],
   "source": []
  }
 ],
 "metadata": {
  "kernelspec": {
   "display_name": "SageMath 9.2",
   "language": "sage",
   "name": "sagemath"
  },
  "language_info": {
   "codemirror_mode": {
    "name": "ipython",
    "version": 3
   },
   "file_extension": ".py",
   "mimetype": "text/x-python",
   "name": "python",
   "nbconvert_exporter": "python",
   "pygments_lexer": "ipython3",
   "version": "3.8.5"
  }
 },
 "nbformat": 4,
 "nbformat_minor": 4
}
