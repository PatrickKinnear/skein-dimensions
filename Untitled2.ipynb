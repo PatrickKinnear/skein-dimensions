{
 "cells": [
  {
   "cell_type": "code",
   "execution_count": 1,
   "metadata": {},
   "outputs": [],
   "source": [
    "load(\"skeinslib.sage\")"
   ]
  },
  {
   "cell_type": "code",
   "execution_count": 2,
   "metadata": {},
   "outputs": [],
   "source": [
    "S = matrix(ZZ, 2, [0, -1, 1, 0])"
   ]
  },
  {
   "cell_type": "code",
   "execution_count": 3,
   "metadata": {},
   "outputs": [
    {
     "name": "stdout",
     "output_type": "stream",
     "text": [
      "Calculating relations for level 4 (41 lattice points) ...\n",
      "Found 176 (non-independent) relations. Reducing ...\n",
      "Calculating relations for level 3 (25 lattice points) ...\n",
      "Found 76 (non-independent) relations. Reducing ...\n",
      "Calculating relations for level 2 (13 lattice points) ...\n",
      "Found 24 (non-independent) relations. Reducing ...\n",
      "Calculating relations for level 1 (5 lattice points) ...\n",
      "Found 4 (non-independent) relations.\n",
      "\n",
      "Dimension estimate for empty skein part at level 1: 3.\n",
      "\n",
      "Visualisation:\n",
      "\n",
      "x x . \n",
      "- x - \n",
      ". | . \n",
      "\n",
      "Dimension estimate for empty skein part at level 2: 4.\n",
      "\n",
      "Visualisation:\n",
      "\n",
      ". x | . . \n",
      ". x x . . \n",
      "- - x - - \n",
      ". . | . . \n",
      ". . | . . \n",
      "\n",
      "Dimension estimate for empty skein part at level 3: 4.\n",
      "\n",
      "Visualisation:\n",
      "\n",
      ". . . | . . . \n",
      ". . x | . . . \n",
      ". . x x . . . \n",
      "- - - x - - - \n",
      ". . . | . . . \n",
      ". . . | . . . \n",
      ". . . | . . . \n",
      "\n",
      "Dimension estimate for empty skein part at level 4: 4.\n",
      "\n",
      "Visualisation:\n",
      "\n",
      ". . . . | . . . . \n",
      ". . . . | . . . . \n",
      ". . . x | . . . . \n",
      ". . . x x . . . . \n",
      "- - - - x - - - - \n",
      ". . . . | . . . . \n",
      ". . . . | . . . . \n",
      ". . . . | . . . . \n",
      ". . . . | . . . . \n",
      "\n"
     ]
    },
    {
     "data": {
      "text/plain": [
       "(280 x 41 sparse matrix over Fraction Field of Sparse Univariate Polynomial Ring in sqq over Rational Field,\n",
       " 280 x 41 sparse matrix over Fraction Field of Sparse Univariate Polynomial Ring in sqq over Rational Field,\n",
       " [3, 4, 4, 4])"
      ]
     },
     "execution_count": 3,
     "metadata": {},
     "output_type": "execute_result"
    }
   ],
   "source": [
    "compute_reduced_matrix(S, 4, True)"
   ]
  },
  {
   "cell_type": "code",
   "execution_count": 4,
   "metadata": {},
   "outputs": [],
   "source": [
    "rels = get_relations_empty(S, 4, order_by_shell_level)"
   ]
  },
  {
   "cell_type": "code",
   "execution_count": 5,
   "metadata": {},
   "outputs": [],
   "source": [
    "order = order_by_shell_level(4)"
   ]
  },
  {
   "cell_type": "code",
   "execution_count": 8,
   "metadata": {},
   "outputs": [],
   "source": [
    "v = vector(ZZ, [-2, 3], immutable=True)"
   ]
  },
  {
   "cell_type": "code",
   "execution_count": 9,
   "metadata": {},
   "outputs": [
    {
     "data": {
      "text/plain": [
       "14"
      ]
     },
     "execution_count": 9,
     "metadata": {},
     "output_type": "execute_result"
    }
   ],
   "source": [
    "order[v]"
   ]
  },
  {
   "cell_type": "code",
   "execution_count": 11,
   "metadata": {},
   "outputs": [],
   "source": [
    "w = vector(ZZ, [2, -1], immutable=True)\n",
    "j = order[w]"
   ]
  },
  {
   "cell_type": "code",
   "execution_count": 14,
   "metadata": {},
   "outputs": [
    {
     "data": {
      "text/plain": [
       "12"
      ]
     },
     "execution_count": 14,
     "metadata": {},
     "output_type": "execute_result"
    }
   ],
   "source": [
    "j"
   ]
  },
  {
   "cell_type": "code",
   "execution_count": 18,
   "metadata": {
    "scrolled": true
   },
   "outputs": [
    {
     "name": "stdout",
     "output_type": "stream",
     "text": [
      "((0, 0), (-2, 3)) (0, 0, 0, 0, 0, 0, 0, 0, 0, 0, 0, 0, 0, 0, 2, 0, 0, 0, 0, 0, -2/sqq^12, 0, 0, 0, 0, 0, 0, 0, 0, 0, 0, 0, 0, 0, 0, 0, 0, 0, 0, 0, 0)\n",
      "((0, 0), (3, 2)) (0, 0, 0, 0, 0, 0, 0, 0, 0, 0, 0, 0, 0, 0, -2*sqq^12, 0, 0, 0, 0, 0, 2, 0, 0, 0, 0, 0, 0, 0, 0, 0, 0, 0, 0, 0, 0, 0, 0, 0, 0, 0, 0)\n",
      "((-1, 1), (-1, 2)) (0, 0, sqq^(-2), 0, 0, 0, 0, 0, -1/sqq^2, 0, 0, 0, 0, 0, sqq^2, 0, 0, 0, 0, 0, 0, 0, -1/sqq^6, 0, 0, 0, 0, 0, 0, 0, 0, 0, 0, 0, 0, 0, 0, 0, 0, 0, 0)\n",
      "((-1, 1), (2, 1)) (0, 0, -1, 0, 0, 0, 0, 0, sqq^(-4), 0, 0, 0, 0, 0, -sqq^8, 0, 0, 0, 0, 0, 0, 0, sqq^4, 0, 0, 0, 0, 0, 0, 0, 0, 0, 0, 0, 0, 0, 0, 0, 0, 0, 0)\n",
      "((1, 1), (2, 3)) (0, 0, 0, 0, 0, 0, 0, 0, sqq^4, 0, 0, 0, 0, 0, -sqq^8, 0, 0, 0, 0, 0, 0, 0, 0, 0, 0, 0, 0, 0, 0, 0, 0, 0, sqq^(-4), 0, 0, 0, 0, 0, -sqq^16, 0, 0)\n",
      "((1, 1), (3, -2)) (0, 0, 0, 0, 0, 0, 0, 0, -1/sqq^6, 0, 0, 0, 0, 0, sqq^6, 0, 0, 0, 0, 0, 0, 0, 0, 0, 0, 0, 0, 0, 0, 0, 0, 0, -1/sqq^18, 0, 0, 0, 0, 0, sqq^(-6), 0, 0)\n",
      "((1, 0), (-3, 3)) (0, 0, 0, 0, 0, 0, 0, 0, 0, 0, 0, 0, 0, 0, 1, 0, 0, 0, -1/sqq^12, 0, 0, 0, 0, 0, 0, 0, 0, 0, 0, 0, 0, 0, 0, 0, -1/sqq^24, 0, 0, 0, 0, 0, 1)\n",
      "((1, 0), (-1, 3)) (0, 0, 0, 0, 0, 0, 0, 0, 0, 0, -1/sqq^4, 0, 0, 0, 1, 0, 1, 0, 0, 0, 0, 0, 0, 0, 0, 0, 0, 0, 0, 0, 0, 0, 0, 0, 0, 0, -1/sqq^8, 0, 0, 0, 0)\n",
      "((1, 0), (3, 3)) (0, 0, 0, 0, 0, 0, 0, 0, 0, 0, 0, 0, 0, 0, -sqq^12, 0, 0, 0, 1, 0, 0, 0, 0, 0, 0, 0, 0, 0, 0, 0, 0, 0, 0, 0, 1, 0, 0, 0, 0, 0, -sqq^24)\n",
      "((1, 0), (3, 1)) (0, 0, 0, 0, 0, 0, 0, 0, 0, 0, 1, 0, 0, 0, -sqq^12, 0, -1, 0, 0, 0, 0, 0, 0, 0, 0, 0, 0, 0, 0, 0, 0, 0, 0, 0, 0, 0, 1, 0, 0, 0, 0)\n",
      "((0, 2), (1, 2)) (0, 0, 0, 0, sqq^4, 0, 0, 0, 0, 0, -sqq^4, 0, 0, 0, -sqq^4, 0, 0, 0, 0, 0, 0, 0, 0, 0, 0, 0, 0, 0, 0, 0, sqq^(-4), 0, 0, 0, 0, 0, 0, 0, 0, 0, 0)\n",
      "((0, 2), (2, -1)) (0, 0, 0, 0, -1/sqq^4, 0, 0, 0, 0, 0, sqq^(-8), 0, 0, 0, sqq^8, 0, 0, 0, 0, 0, 0, 0, 0, 0, 0, 0, 0, 0, 0, 0, -1/sqq^4, 0, 0, 0, 0, 0, 0, 0, 0, 0, 0)\n",
      "((2, -1), (0, 2)) (0, 0, -1, 0, 0, 0, 0, 0, 0, 0, 1, 0, 0, 0, 1, 0, 0, 0, 0, 0, 0, 0, 0, 0, 0, 0, 0, 0, 0, 0, 0, 0, 0, 0, 0, 0, 0, 0, -1, 0, 0)\n",
      "((2, -1), (2, 0)) (0, 0, sqq^(-4), 0, 0, 0, 0, 0, 0, 0, -1/sqq^8, 0, 0, 0, -sqq^8, 0, 0, 0, 0, 0, 0, 0, 0, 0, 0, 0, 0, 0, 0, 0, 0, 0, 0, 0, 0, 0, 0, 0, sqq^4, 0, 0)\n",
      "((-3, 3), (0, 1)) (0, 0, 0, 0, 0, 0, 0, 0, 0, 0, 0, 0, 0, 0, -1, 0, 0, 0, 0, 0, 0, 0, 0, 0, 1, 0, 1, 0, 0, 0, 0, 0, 0, 0, 0, 0, 0, 0, 0, 0, -1)\n",
      "((-3, 3), (1, 0)) (0, 0, 0, 0, 0, 0, 0, 0, 0, 0, 0, 0, 0, 0, sqq^(-6), 0, 0, 0, 0, 0, 0, 0, 0, 0, -1/sqq^6, 0, -sqq^6, 0, 0, 0, 0, 0, 0, 0, 0, 0, 0, 0, 0, 0, sqq^6)\n",
      "((-1, 3), (0, 1)) (0, 0, 0, 0, 0, 0, 1, 0, 0, 0, 0, 0, 0, 0, -1, 0, -1, 0, 0, 0, 0, 0, 0, 0, 0, 0, 0, 0, 1, 0, 0, 0, 0, 0, 0, 0, 0, 0, 0, 0, 0)\n",
      "((-1, 3), (1, 0)) (0, 0, 0, 0, 0, 0, -1/sqq^2, 0, 0, 0, 0, 0, 0, 0, sqq^6, 0, sqq^(-6), 0, 0, 0, 0, 0, 0, 0, 0, 0, 0, 0, -sqq^2, 0, 0, 0, 0, 0, 0, 0, 0, 0, 0, 0, 0)\n"
     ]
    }
   ],
   "source": [
    "i = order[v]\n",
    "for k in rels.keys():\n",
    "    if rels[k][i] != 0 and rels[k][j] == 0:\n",
    "        print(k, rels[k])"
   ]
  },
  {
   "cell_type": "code",
   "execution_count": 17,
   "metadata": {},
   "outputs": [
    {
     "data": {
      "text/plain": [
       "(2, 3)"
      ]
     },
     "execution_count": 17,
     "metadata": {},
     "output_type": "execute_result"
    }
   ],
   "source": [
    "list(order.keys())[18]"
   ]
  },
  {
   "cell_type": "code",
   "execution_count": null,
   "metadata": {},
   "outputs": [],
   "source": []
  }
 ],
 "metadata": {
  "kernelspec": {
   "display_name": "SageMath 9.2",
   "language": "sage",
   "name": "sagemath"
  },
  "language_info": {
   "codemirror_mode": {
    "name": "ipython",
    "version": 3
   },
   "file_extension": ".py",
   "mimetype": "text/x-python",
   "name": "python",
   "nbconvert_exporter": "python",
   "pygments_lexer": "ipython3",
   "version": "3.8.5"
  }
 },
 "nbformat": 4,
 "nbformat_minor": 4
}
