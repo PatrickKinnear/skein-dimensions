{
 "cells": [
  {
   "cell_type": "code",
   "execution_count": 26,
   "metadata": {},
   "outputs": [],
   "source": [
    "var('sqq')\n",
    "K = FractionField(PolynomialRing(QQ, 'sqq', sparse=True))\n",
    "q = sqq**2"
   ]
  },
  {
   "cell_type": "code",
   "execution_count": 27,
   "metadata": {},
   "outputs": [],
   "source": [
    "sigma = matrix(K, 4, [[q, 0, 0, 0], [0, q - q**(-1), 1, 0], [0, 1, 0, 0], [0, 0, 0, q]])"
   ]
  },
  {
   "cell_type": "code",
   "execution_count": 28,
   "metadata": {},
   "outputs": [
    {
     "data": {
      "text/plain": [
       "[            sqq^2                 0                 0                 0]\n",
       "[                0 (sqq^4 - 1)/sqq^2                 1                 0]\n",
       "[                0                 1                 0                 0]\n",
       "[                0                 0                 0             sqq^2]"
      ]
     },
     "execution_count": 28,
     "metadata": {},
     "output_type": "execute_result"
    }
   ],
   "source": [
    "sigma"
   ]
  },
  {
   "cell_type": "code",
   "execution_count": 29,
   "metadata": {},
   "outputs": [],
   "source": [
    "sigma = sqq*sigma"
   ]
  },
  {
   "cell_type": "code",
   "execution_count": 30,
   "metadata": {},
   "outputs": [
    {
     "data": {
      "text/plain": [
       "[          sqq^3               0               0               0]\n",
       "[              0 (sqq^4 - 1)/sqq             sqq               0]\n",
       "[              0             sqq               0               0]\n",
       "[              0               0               0           sqq^3]"
      ]
     },
     "execution_count": 30,
     "metadata": {},
     "output_type": "execute_result"
    }
   ],
   "source": [
    "sigma"
   ]
  },
  {
   "cell_type": "code",
   "execution_count": 15,
   "metadata": {},
   "outputs": [
    {
     "data": {
      "text/plain": [
       "[          sqq^(-3)                  0                  0                  0]\n",
       "[                 0                  0              1/sqq                  0]\n",
       "[                 0              1/sqq -(sqq^4 - 1)/sqq^3                  0]\n",
       "[                 0                  0                  0           sqq^(-3)]"
      ]
     },
     "execution_count": 15,
     "metadata": {},
     "output_type": "execute_result"
    }
   ],
   "source": [
    "sigma.inverse()"
   ]
  },
  {
   "cell_type": "code",
   "execution_count": 31,
   "metadata": {},
   "outputs": [
    {
     "data": {
      "text/plain": [
       "[            1/sqq                 0                 0                 0]\n",
       "[                0 (sqq^4 - 1)/sqq^5          sqq^(-3)                 0]\n",
       "[                0          sqq^(-3)                 0                 0]\n",
       "[                0                 0                 0             1/sqq]"
      ]
     },
     "execution_count": 31,
     "metadata": {},
     "output_type": "execute_result"
    }
   ],
   "source": [
    "(q**(-2))*sigma"
   ]
  },
  {
   "cell_type": "code",
   "execution_count": 32,
   "metadata": {},
   "outputs": [
    {
     "data": {
      "text/plain": [
       "[          sqq^(-7)                  0                  0                  0]\n",
       "[                 0                  0           sqq^(-5)                  0]\n",
       "[                 0           sqq^(-5) -(sqq^4 - 1)/sqq^7                  0]\n",
       "[                 0                  0                  0           sqq^(-7)]"
      ]
     },
     "execution_count": 32,
     "metadata": {},
     "output_type": "execute_result"
    }
   ],
   "source": [
    "(q**(-2))*(sigma.inverse())"
   ]
  },
  {
   "cell_type": "code",
   "execution_count": 33,
   "metadata": {},
   "outputs": [
    {
     "data": {
      "text/plain": [
       "[             sqq                0                0                0]\n",
       "[               0                0            sqq^3                0]\n",
       "[               0            sqq^3 -(sqq^4 - 1)*sqq                0]\n",
       "[               0                0                0              sqq]"
      ]
     },
     "execution_count": 33,
     "metadata": {},
     "output_type": "execute_result"
    }
   ],
   "source": [
    "(q**(2))*(sigma.inverse())"
   ]
  },
  {
   "cell_type": "code",
   "execution_count": 34,
   "metadata": {},
   "outputs": [
    {
     "data": {
      "text/plain": [
       "[  sqq^3 - 1/sqq^3                 0                 0                 0]\n",
       "[                0   (sqq^4 - 1)/sqq       sqq - 1/sqq                 0]\n",
       "[                0       sqq - 1/sqq (sqq^4 - 1)/sqq^3                 0]\n",
       "[                0                 0                 0   sqq^3 - 1/sqq^3]"
      ]
     },
     "execution_count": 34,
     "metadata": {},
     "output_type": "execute_result"
    }
   ],
   "source": [
    "sigma - sigma.inverse()"
   ]
  },
  {
   "cell_type": "code",
   "execution_count": 35,
   "metadata": {},
   "outputs": [
    {
     "data": {
      "text/plain": [
       "[   sqq^5 + 1/sqq                0                0                0]\n",
       "[               0  (sqq^4 - 1)*sqq      sqq^3 + sqq                0]\n",
       "[               0      sqq^3 + sqq -(sqq^4 - 1)/sqq                0]\n",
       "[               0                0                0    sqq^5 + 1/sqq]"
      ]
     },
     "execution_count": 35,
     "metadata": {},
     "output_type": "execute_result"
    }
   ],
   "source": [
    "q*sigma - q*(-1)*sigma.inverse()"
   ]
  },
  {
   "cell_type": "code",
   "execution_count": 39,
   "metadata": {},
   "outputs": [
    {
     "data": {
      "text/plain": [
       "[  sqq^7 - 1/sqq^7                 0                 0                 0]\n",
       "[                0 (sqq^4 - 1)*sqq^3   sqq^5 - 1/sqq^5                 0]\n",
       "[                0   sqq^5 - 1/sqq^5 (sqq^4 - 1)/sqq^7                 0]\n",
       "[                0                 0                 0   sqq^7 - 1/sqq^7]"
      ]
     },
     "execution_count": 39,
     "metadata": {},
     "output_type": "execute_result"
    }
   ],
   "source": [
    "q**(2)*sigma - q**(-2)*sigma.inverse()"
   ]
  },
  {
   "cell_type": "code",
   "execution_count": null,
   "metadata": {},
   "outputs": [],
   "source": []
  }
 ],
 "metadata": {
  "kernelspec": {
   "display_name": "SageMath 9.2",
   "language": "sage",
   "name": "sagemath"
  },
  "language_info": {
   "codemirror_mode": {
    "name": "ipython",
    "version": 3
   },
   "file_extension": ".py",
   "mimetype": "text/x-python",
   "name": "python",
   "nbconvert_exporter": "python",
   "pygments_lexer": "ipython3",
   "version": "3.8.5"
  }
 },
 "nbformat": 4,
 "nbformat_minor": 4
}
