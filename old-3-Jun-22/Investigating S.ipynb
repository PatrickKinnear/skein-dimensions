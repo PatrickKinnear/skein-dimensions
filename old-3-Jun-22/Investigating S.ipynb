{
 "cells": [
  {
   "cell_type": "code",
   "execution_count": 1,
   "metadata": {},
   "outputs": [],
   "source": [
    "load(\"skeinslib.sage\")"
   ]
  },
  {
   "cell_type": "code",
   "execution_count": 2,
   "metadata": {},
   "outputs": [],
   "source": [
    "S = matrix(ZZ, 2, [0, 1, -1, 0])"
   ]
  },
  {
   "cell_type": "code",
   "execution_count": 3,
   "metadata": {},
   "outputs": [],
   "source": [
    "rels_lvl_2 = get_relations_empty(S, 2, order_by_shell_level)"
   ]
  },
  {
   "cell_type": "code",
   "execution_count": 4,
   "metadata": {},
   "outputs": [],
   "source": [
    "ordering = order_by_shell_level(2)\n",
    "v_position = ordering[vector(ZZ, [0, 2], immutable=True)]"
   ]
  },
  {
   "cell_type": "code",
   "execution_count": 10,
   "metadata": {},
   "outputs": [
    {
     "data": {
      "text/plain": [
       "7"
      ]
     },
     "execution_count": 10,
     "metadata": {},
     "output_type": "execute_result"
    }
   ],
   "source": [
    "v_position"
   ]
  },
  {
   "cell_type": "code",
   "execution_count": 12,
   "metadata": {
    "scrolled": true
   },
   "outputs": [
    {
     "name": "stdout",
     "output_type": "stream",
     "text": [
      "((0, 0), (0, 2)) (0, 0, 0, 0, 0, 0, 0, 2, 0, 0, 0, -2, 0)\n",
      "((0, 0), (2, 0)) (0, 0, 0, 0, 0, 0, 0, -2, 0, 0, 0, 2, 0)\n",
      "((-1, 1), (-1, 1)) (1/q, 0, 0, 0, 0, q, 0, -1, 0, 0, 0, -1/q^2, 0)\n",
      "((-1, 1), (1, 1)) (-1, 0, 0, 0, 0, -q^2, 0, 1/q, 0, 0, 0, q, 0)\n",
      "((0, 1), (0, 1)) (1, -1, 0, -1, 0, 0, 0, 1, 0, 0, 0, 0, 0)\n",
      "((0, 1), (1, 0)) (-1, q, 0, 1/q, 0, 0, 0, -1, 0, 0, 0, 0, 0)\n",
      "((1, 1), (-1, 1)) (-1, 0, 0, 0, 0, 0, 0, q, 0, -1/q^2, 0, 1/q, 0)\n",
      "((1, 1), (1, 1)) (q, 0, 0, 0, 0, 0, 0, -1, 0, 1/q, 0, -q^2, 0)\n"
     ]
    }
   ],
   "source": [
    "for k in rels_lvl_2.keys():\n",
    "    if rels_lvl_2[k][v_position] != 0:\n",
    "        print(k, rels_lvl_2[k])"
   ]
  },
  {
   "cell_type": "code",
   "execution_count": 14,
   "metadata": {},
   "outputs": [
    {
     "name": "stdout",
     "output_type": "stream",
     "text": [
      "((0, 0), (-1, 1)) (0, 2, 0, -2/q, 0, 0, 0, 0, 0, 0, 0, 0, 0)\n",
      "((0, 0), (1, 1)) (0, -2*q, 0, 2, 0, 0, 0, 0, 0, 0, 0, 0, 0)\n",
      "((0, 1), (0, 1)) (1, -1, 0, -1, 0, 0, 0, 1, 0, 0, 0, 0, 0)\n",
      "((0, 1), (1, 0)) (-1, q, 0, 1/q, 0, 0, 0, -1, 0, 0, 0, 0, 0)\n",
      "((1, 0), (0, 1)) (-1, 1, 0, 1, 0, 0, 0, 0, 0, 0, 0, -1, 0)\n",
      "((1, 0), (1, 0)) (1, -q, 0, -1/q, 0, 0, 0, 0, 0, 0, 0, 1, 0)\n"
     ]
    }
   ],
   "source": [
    "ordering = order_by_shell_level(2)\n",
    "v_position = ordering[vector(ZZ, [1, 1], immutable=True)]\n",
    "for k in rels_lvl_2.keys():\n",
    "    if rels_lvl_2[k][v_position] != 0:\n",
    "        print(k, rels_lvl_2[k])"
   ]
  },
  {
   "cell_type": "code",
   "execution_count": 5,
   "metadata": {},
   "outputs": [
    {
     "name": "stdout",
     "output_type": "stream",
     "text": [
      "[(-2, 3), (-2, 1), (-1, 2), (-3, 2)]\n",
      "[(-2, 3), (2, -1), (-1, 2), (3, -2)]\n"
     ]
    },
    {
     "data": {
      "text/plain": [
       "[(1, (-2, 3)), (1, (2, -1)), (-1, (-1, 2)), (-1, (3, -2))]"
      ]
     },
     "execution_count": 5,
     "metadata": {},
     "output_type": "execute_result"
    }
   ],
   "source": [
    "get_relation(S, vector(ZZ, [-2, 2], immutable=True), vector(ZZ, [0, 1], immutable=True))"
   ]
  },
  {
   "cell_type": "code",
   "execution_count": 6,
   "metadata": {},
   "outputs": [
    {
     "name": "stdout",
     "output_type": "stream",
     "text": [
      "[(-1, 2), (-3, 2), (-2, 1), (-2, 3)]\n",
      "[(-1, 2), (3, -2), (2, -1), (-2, 3)]\n"
     ]
    },
    {
     "data": {
      "text/plain": [
       "[(q^(-2), (-1, 2)), (q^2, (3, -2)), (-1/q^2, (2, -1)), (-q^2, (-2, 3))]"
      ]
     },
     "execution_count": 6,
     "metadata": {},
     "output_type": "execute_result"
    }
   ],
   "source": [
    "get_relation(S, vector(ZZ, [-2, 2], immutable=True), vector(ZZ, [1, 0], immutable=True))"
   ]
  },
  {
   "cell_type": "code",
   "execution_count": 5,
   "metadata": {},
   "outputs": [],
   "source": [
    "pts = [vector(ZZ, [-3, 3], immutable=True), vector(ZZ, [3, -1], immutable=True), vector(ZZ, [3, -2], immutable=True)]"
   ]
  },
  {
   "cell_type": "code",
   "execution_count": 6,
   "metadata": {},
   "outputs": [],
   "source": [
    "p = pts[0]"
   ]
  },
  {
   "cell_type": "code",
   "execution_count": 7,
   "metadata": {},
   "outputs": [
    {
     "data": {
      "text/plain": [
       "[(1, -1, 0, -1, 0, 0, 0, 1, 0, 0, 0, 0, 0, 0, 0, 0, 0, 0, 0, 0, 0, 0, 0, 0, 0, 0, 0, 0, 0, 0, 0, 0, 0, 0, 0, 0, 0, 0, 0, 0, 0),\n",
       " (-1, q, 0, 1/q, 0, 0, 0, -1, 0, 0, 0, 0, 0, 0, 0, 0, 0, 0, 0, 0, 0, 0, 0, 0, 0, 0, 0, 0, 0, 0, 0, 0, 0, 0, 0, 0, 0, 0, 0, 0, 0),\n",
       " (-1, 0, 0, 0, 0, 0, 0, q, 0, -1/q^2, 0, 1/q, 0, 0, 0, 0, 0, 0, 0, 0, 0, 0, 0, 0, 0, 0, 0, 0, 0, 0, 0, 0, 0, 0, 0, 0, 0, 0, 0, 0, 0),\n",
       " (0, 0, -1, 0, 1, 0, 0, 0, 1, 0, -1, 0, 0, 0, 0, 0, 0, 0, 0, 0, 0, 0, 0, 0, 0, 0, 0, 0, 0, 0, 0, 0, 0, 0, 0, 0, 0, 0, 0, 0, 0),\n",
       " (q, 0, 0, 0, 0, 0, 0, -1, 0, 1/q, 0, -q^2, 0, 0, 0, 0, 0, 0, 0, 0, 0, 0, 0, 0, 0, 0, 0, 0, 0, 0, 0, 0, 0, 0, 0, 0, 0, 0, 0, 0, 0),\n",
       " (0, 0, q, 0, -q, 0, 0, 0, -1/q, 0, 1/q, 0, 0, 0, 0, 0, 0, 0, 0, 0, 0, 0, 0, 0, 0, 0, 0, 0, 0, 0, 0, 0, 0, 0, 0, 0, 0, 0, 0, 0, 0),\n",
       " (0, 1, 0, 0, 0, -1, 0, -1, 0, 0, 0, 0, 0, 0, 0, 1, 0, 0, 0, 0, 0, 0, 0, 0, 0, 0, 0, 0, 0, 0, 0, 0, 0, 0, 0, 0, 0, 0, 0, 0, 0),\n",
       " (0, -1/q, 0, 0, 0, q^2, 0, q^(-2), 0, 0, 0, 0, 0, 0, 0, -q, 0, 0, 0, 0, 0, 0, 0, 0, 0, 0, 0, 0, 0, 0, 0, 0, 0, 0, 0, 0, 0, 0, 0, 0, 0),\n",
       " (0, -1/q, 0, q^(-2), 0, 0, 0, 0, 0, 0, 0, 0, 0, 0, 0, q^2, 0, -1/q, 0, 0, 0, 0, 0, 0, 0, 0, 0, 0, 0, 0, 0, 0, 0, 0, 0, 0, 0, 0, 0, 0, 0),\n",
       " (0, 0, 1, 0, 0, 0, -1, 0, -1, 0, 0, 0, 0, 0, 0, 0, 1, 0, 0, 0, 0, 0, 0, 0, 0, 0, 0, 0, 0, 0, 0, 0, 0, 0, 0, 0, 0, 0, 0, 0, 0),\n",
       " (0, q^2, 0, -q, 0, 0, 0, 0, 0, 0, 0, 0, 0, 0, 0, -q, 0, q^(-2), 0, 0, 0, 0, 0, 0, 0, 0, 0, 0, 0, 0, 0, 0, 0, 0, 0, 0, 0, 0, 0, 0, 0),\n",
       " (0, 0, -1, 0, 0, 0, q^2, 0, q^(-2), 0, 0, 0, 0, 0, 0, 0, -1, 0, 0, 0, 0, 0, 0, 0, 0, 0, 0, 0, 0, 0, 0, 0, 0, 0, 0, 0, 0, 0, 0, 0, 0),\n",
       " (1, 0, 0, 0, 0, -1, 0, 0, 0, -1, 0, 0, 0, 0, 0, 0, 0, 0, 0, 0, 0, 0, 0, 0, 0, 0, 0, 0, 0, 1, 0, 0, 0, 0, 0, 0, 0, 0, 0, 0, 0),\n",
       " (-1, 0, 0, 0, 0, q^4, 0, 0, 0, q^(-4), 0, 0, 0, 0, 0, 0, 0, 0, 0, 0, 0, 0, 0, 0, 0, 0, 0, 0, 0, -1, 0, 0, 0, 0, 0, 0, 0, 0, 0, 0, 0),\n",
       " (0, 0, -1, 0, 0, 0, 0, 0, 0, 0, q^(-2), 0, 0, 0, 0, 0, q^2, 0, -1/q^2, 0, 0, 0, 0, 0, 0, 0, 0, 0, 0, 0, 0, 0, 0, 0, 0, 0, 0, 0, 0, 0, 0),\n",
       " (0, 0, 0, 1, 0, 0, 0, -1, 0, -1, 0, 0, 0, 0, 0, 0, 0, 1, 0, 0, 0, 0, 0, 0, 0, 0, 0, 0, 0, 0, 0, 0, 0, 0, 0, 0, 0, 0, 0, 0, 0),\n",
       " (0, 0, q^2, 0, 0, 0, 0, 0, 0, 0, -q^2, 0, 0, 0, 0, 0, -1, 0, q^(-2), 0, 0, 0, 0, 0, 0, 0, 0, 0, 0, 0, 0, 0, 0, 0, 0, 0, 0, 0, 0, 0, 0),\n",
       " (0, 0, 0, -q, 0, 0, 0, q^2, 0, q^(-2), 0, 0, 0, 0, 0, 0, 0, -1/q, 0, 0, 0, 0, 0, 0, 0, 0, 0, 0, 0, 0, 0, 0, 0, 0, 0, 0, 0, 0, 0, 0, 0),\n",
       " (0, -1/q, 0, 0, 0, 0, 0, 0, 0, 0, 0, q^(-2), 0, 0, 0, 0, 0, 0, 0, -1/q^3, 0, 0, 0, 0, 0, 0, 0, 0, 0, q^2, 0, 0, 0, 0, 0, 0, 0, 0, 0, 0, 0),\n",
       " (0, 0, 0, 0, 1, 0, -1, 0, 0, 0, 0, 0, 0, 0, 0, 0, 0, 0, 0, 0, -1, 0, 0, 0, 0, 0, 0, 0, 0, 0, 1, 0, 0, 0, 0, 0, 0, 0, 0, 0, 0),\n",
       " (q^2, 0, 0, 0, 0, 0, 0, 0, 0, 0, 0, 0, 0, 0, 0, -q, 0, 0, 0, 0, 0, -q^3, 0, 0, 0, 0, 0, 0, 0, 0, 0, q^(-2), 0, 0, 0, 0, 0, 0, 0, 0, 0),\n",
       " (0, q^4, 0, 0, 0, 0, 0, 0, 0, 0, 0, -q^4, 0, 0, 0, 0, 0, 0, 0, q^(-4), 0, 0, 0, 0, 0, 0, 0, 0, 0, -1, 0, 0, 0, 0, 0, 0, 0, 0, 0, 0, 0),\n",
       " (0, 0, 0, 0, -q^2, 0, q^4, 0, 0, 0, 0, 0, 0, 0, 0, 0, 0, 0, 0, 0, q^(-4), 0, 0, 0, 0, 0, 0, 0, 0, 0, -1/q^2, 0, 0, 0, 0, 0, 0, 0, 0, 0, 0),\n",
       " (-1, 0, 0, 0, 0, 0, 0, 0, 0, 0, 0, 0, 0, 0, 0, q^4, 0, 0, 0, 0, 0, q^(-4), 0, 0, 0, 0, 0, 0, 0, 0, 0, -1/q^4, 0, 0, 0, 0, 0, 0, 0, 0, 0),\n",
       " (0, 0, 0, -q, 0, 0, 0, 0, 0, 0, 0, 0, 0, 0, 0, 0, 0, q^2, 0, -1/q^3, 0, q^(-2), 0, 0, 0, 0, 0, 0, 0, 0, 0, 0, 0, 0, 0, 0, 0, 0, 0, 0, 0),\n",
       " (0, 0, 0, 0, 0, 0, 0, 0, -1, 0, 1, 0, 0, 0, 0, 0, 0, 0, 1, 0, -1, 0, 0, 0, 0, 0, 0, 0, 0, 0, 0, 0, 0, 0, 0, 0, 0, 0, 0, 0, 0),\n",
       " (0, 0, 0, q^2, 0, 0, 0, 0, 0, 0, 0, 0, 0, 0, 0, 0, 0, -1/q, 0, q^(-2), 0, -q^3, 0, 0, 0, 0, 0, 0, 0, 0, 0, 0, 0, 0, 0, 0, 0, 0, 0, 0, 0),\n",
       " (0, 0, 0, 0, 0, 0, 0, 0, q^2, 0, -q^2, 0, 0, 0, 0, 0, 0, 0, -1/q^2, 0, q^(-2), 0, 0, 0, 0, 0, 0, 0, 0, 0, 0, 0, 0, 0, 0, 0, 0, 0, 0, 0, 0),\n",
       " (-1, 0, 0, 0, 0, 0, 0, 0, 0, 0, 0, 0, 0, 0, 0, 0, 0, 0, 0, 0, 0, 0, 0, 0, 0, 0, 0, 0, 0, q^4, 0, 0, 0, -1/q^8, 0, 0, 0, q^(-4), 0, 0, 0),\n",
       " (0, 0, -1, 0, 0, 0, 0, 0, 0, 0, 0, 0, 0, 0, 0, 0, 0, 0, 0, 0, 0, 0, q^(-2), 0, 0, 0, 0, 0, 0, 0, q^2, 0, 0, 0, -1/q^4, 0, 0, 0, 0, 0, 0),\n",
       " (0, 0, 0, 0, 0, 0, 0, -1, 0, 0, 0, 1, 0, 0, 0, 0, 0, 0, 0, 0, 0, 0, 0, 0, 0, 0, 0, 0, 0, 0, 0, 1, 0, 0, 0, -1, 0, 0, 0, 0, 0),\n",
       " (0, 0, 0, 0, q^2, 0, 0, 0, 0, 0, 0, 0, 0, 0, 0, 0, -1, 0, 0, 0, 0, 0, 0, 0, 0, 0, 0, 0, 0, 0, 0, 0, q^(-2), 0, 0, 0, -q^4, 0, 0, 0, 0),\n",
       " (q^4, 0, 0, 0, 0, 0, 0, 0, 0, 0, 0, 0, 0, 0, 0, 0, 0, 0, 0, 0, 0, 0, 0, 0, 0, 0, 0, 0, 0, -1, 0, 0, 0, q^(-4), 0, 0, 0, -q^8, 0, 0, 0),\n",
       " (0, 0, q^4, 0, 0, 0, 0, 0, 0, 0, 0, 0, 0, 0, 0, 0, 0, 0, 0, 0, 0, 0, -q^6, 0, 0, 0, 0, 0, 0, 0, -1/q^2, 0, 0, 0, q^(-4), 0, 0, 0, 0, 0, 0),\n",
       " (0, 0, 0, 0, 0, 0, 0, q^4, 0, 0, 0, -q^4, 0, 0, 0, 0, 0, 0, 0, 0, 0, 0, 0, 0, 0, 0, 0, 0, 0, 0, 0, -1/q^4, 0, 0, 0, q^(-4), 0, 0, 0, 0, 0),\n",
       " (0, 0, 0, 0, -q^2, 0, 0, 0, 0, 0, 0, 0, 0, 0, 0, 0, q^4, 0, 0, 0, 0, 0, 0, 0, 0, 0, 0, 0, 0, 0, 0, 0, -1/q^6, 0, 0, 0, q^(-4), 0, 0, 0, 0),\n",
       " (0, 0, 0, 0, -q, 0, 0, 0, q, 0, 0, 0, 0, 0, 0, 0, 0, 0, 0, 0, -1/q^3, 0, 1/q, 0, 0, 0, 0, 0, 0, 0, 0, 0, 0, 0, 0, 0, 0, 0, 0, 0, 0),\n",
       " (0, 0, 0, -1, 0, 0, 0, 0, 0, 1, 0, 1, 0, 0, 0, 0, 0, 0, 0, 0, 0, -1, 0, 0, 0, 0, 0, 0, 0, 0, 0, 0, 0, 0, 0, 0, 0, 0, 0, 0, 0),\n",
       " (0, 0, 0, 0, q, 0, 0, 0, -1/q, 0, 0, 0, 0, 0, 0, 0, 0, 0, 0, 0, 1/q, 0, -q^3, 0, 0, 0, 0, 0, 0, 0, 0, 0, 0, 0, 0, 0, 0, 0, 0, 0, 0),\n",
       " (0, 0, 0, q, 0, 0, 0, 0, 0, -1/q^2, 0, -q^2, 0, 0, 0, 0, 0, 0, 0, 0, 0, 1/q, 0, 0, 0, 0, 0, 0, 0, 0, 0, 0, 0, 0, 0, 0, 0, 0, 0, 0, 0),\n",
       " (-1, 0, 0, 0, 0, 0, 0, 0, 0, 0, 0, 0, 0, 0, 0, 0, 0, q, 0, 0, 0, 0, 0, 1/q, 0, 0, 0, 0, 0, 0, 0, 0, 0, 0, 0, -1/q^4, 0, 0, 0, 0, 0),\n",
       " (0, 0, -1, 0, 0, 0, 0, 0, 0, 0, 0, 0, 1, 0, 0, 0, 0, 0, 1, 0, 0, 0, 0, 0, 0, 0, 0, 0, 0, 0, 0, 0, 0, 0, 0, 0, -1, 0, 0, 0, 0),\n",
       " (q^2, 0, 0, 0, 0, 0, 0, 0, 0, 0, 0, 0, 0, 0, 0, 0, 0, -1/q^2, 0, 0, 0, 0, 0, -q^6, 0, 0, 0, 0, 0, 0, 0, 0, 0, 0, 0, q^(-2), 0, 0, 0, 0, 0),\n",
       " (0, 0, q^2, 0, 0, 0, 0, 0, 0, 0, 0, 0, -q^4, 0, 0, 0, 0, 0, -1/q^4, 0, 0, 0, 0, 0, 0, 0, 0, 0, 0, 0, 0, 0, 0, 0, 0, 0, q^(-2), 0, 0, 0, 0),\n",
       " (0, 0, 0, 0, -1, 0, 0, 0, 0, 0, 1, 0, 1, 0, 0, 0, 0, 0, 0, 0, 0, 0, -1, 0, 0, 0, 0, 0, 0, 0, 0, 0, 0, 0, 0, 0, 0, 0, 0, 0, 0),\n",
       " (0, 0, 0, 0, 1, 0, 0, 0, 0, 0, -1/q^2, 0, -q^2, 0, 0, 0, 0, 0, 0, 0, 0, 0, 1, 0, 0, 0, 0, 0, 0, 0, 0, 0, 0, 0, 0, 0, 0, 0, 0, 0, 0),\n",
       " (0, 0, 0, 0, 0, 1, 0, 0, 0, 0, 0, 0, 0, -1, 0, -1, 0, 0, 0, 0, 0, 0, 0, 0, 0, 0, 0, 1, 0, 0, 0, 0, 0, 0, 0, 0, 0, 0, 0, 0, 0),\n",
       " (0, 0, 0, 0, 0, -1/q^2, 0, 0, 0, 0, 0, 0, 0, q^3, 0, q^(-3), 0, 0, 0, 0, 0, 0, 0, 0, 0, 0, 0, -q^2, 0, 0, 0, 0, 0, 0, 0, 0, 0, 0, 0, 0, 0),\n",
       " (0, 0, 0, 0, 0, -1/q^2, 0, q^(-3), 0, 0, 0, 0, 0, 0, 0, 0, 0, 0, 0, 0, 0, 0, 0, 0, 0, 0, 0, q^3, 0, -1, 0, 0, 0, 0, 0, 0, 0, 0, 0, 0, 0),\n",
       " (0, 0, 0, 0, 0, 0, 1, 0, 0, 0, 0, 0, 0, 0, -1, 0, -1, 0, 0, 0, 0, 0, 0, 0, 0, 0, 0, 0, 1, 0, 0, 0, 0, 0, 0, 0, 0, 0, 0, 0, 0),\n",
       " (0, 0, 0, 0, 0, q^3, 0, -1, 0, 0, 0, 0, 0, 0, 0, 0, 0, 0, 0, 0, 0, 0, 0, 0, 0, 0, 0, -q^2, 0, q^(-3), 0, 0, 0, 0, 0, 0, 0, 0, 0, 0, 0),\n",
       " (0, 0, 0, 0, 0, 0, -1/q, 0, 0, 0, 0, 0, 0, 0, q^3, 0, q^(-3), 0, 0, 0, 0, 0, 0, 0, 0, 0, 0, 0, -q, 0, 0, 0, 0, 0, 0, 0, 0, 0, 0, 0, 0),\n",
       " (0, 0, 0, 0, 0, 0, -1/q, 0, q^(-3), 0, 0, 0, 0, 0, 0, 0, 0, 0, 0, 0, 0, 0, 0, 0, 0, 0, 0, 0, q^3, 0, -1/q, 0, 0, 0, 0, 0, 0, 0, 0, 0, 0),\n",
       " (0, 0, 0, 0, 0, 0, 0, 1, 0, 0, 0, 0, 0, 0, 0, -1, 0, -1, 0, 0, 0, 0, 0, 0, 0, 0, 0, 0, 0, 1, 0, 0, 0, 0, 0, 0, 0, 0, 0, 0, 0),\n",
       " (0, 0, 0, 0, 0, 0, q^3, 0, -q, 0, 0, 0, 0, 0, 0, 0, 0, 0, 0, 0, 0, 0, 0, 0, 0, 0, 0, 0, -q, 0, q^(-3), 0, 0, 0, 0, 0, 0, 0, 0, 0, 0),\n",
       " (0, 0, 0, 0, 0, 0, 0, -1, 0, 0, 0, 0, 0, 0, 0, q^3, 0, q^(-3), 0, 0, 0, 0, 0, 0, 0, 0, 0, 0, 0, -1, 0, 0, 0, 0, 0, 0, 0, 0, 0, 0, 0),\n",
       " (0, 0, 0, 0, 0, 0, 0, -1, 0, q^(-3), 0, 0, 0, 0, 0, 0, 0, 0, 0, 0, 0, 0, 0, 0, 0, 0, 0, 0, 0, q^3, 0, -1/q^2, 0, 0, 0, 0, 0, 0, 0, 0, 0),\n",
       " (0, 0, 0, 0, 0, 0, 0, 0, 1, 0, 0, 0, 0, 0, 0, 0, -1, 0, -1, 0, 0, 0, 0, 0, 0, 0, 0, 0, 0, 0, 1, 0, 0, 0, 0, 0, 0, 0, 0, 0, 0),\n",
       " (0, 0, 0, 0, 0, 0, 0, q^3, 0, -q^2, 0, 0, 0, 0, 0, 0, 0, 0, 0, 0, 0, 0, 0, 0, 0, 0, 0, 0, 0, -1, 0, q^(-3), 0, 0, 0, 0, 0, 0, 0, 0, 0),\n",
       " (0, 0, 0, 0, 0, 0, 0, 0, -q, 0, 0, 0, 0, 0, 0, 0, q^3, 0, q^(-3), 0, 0, 0, 0, 0, 0, 0, 0, 0, 0, 0, -1/q, 0, 0, 0, 0, 0, 0, 0, 0, 0, 0),\n",
       " (0, 0, 0, 0, 0, 0, 0, 0, -q, 0, 0, 0, 0, 0, 0, 0, 0, 0, 0, 0, q^(-3), 0, 0, 0, 0, 0, 0, 0, 0, 0, q^3, 0, -1/q^3, 0, 0, 0, 0, 0, 0, 0, 0),\n",
       " (0, 0, 0, 0, 0, 0, 0, 0, 0, 1, 0, 0, 0, 0, 0, 0, 0, -1, 0, -1, 0, 0, 0, 0, 0, 0, 0, 0, 0, 0, 0, 1, 0, 0, 0, 0, 0, 0, 0, 0, 0),\n",
       " (0, 0, 0, 0, 0, 0, 0, 0, q^3, 0, 0, 0, 0, 0, 0, 0, 0, 0, 0, 0, -q^3, 0, 0, 0, 0, 0, 0, 0, 0, 0, -1/q, 0, q^(-3), 0, 0, 0, 0, 0, 0, 0, 0),\n",
       " (0, 0, 0, 0, 0, 0, 0, 0, 0, -q^2, 0, 0, 0, 0, 0, 0, 0, q^3, 0, q^(-3), 0, 0, 0, 0, 0, 0, 0, 0, 0, 0, 0, -1/q^2, 0, 0, 0, 0, 0, 0, 0, 0, 0),\n",
       " (0, 0, 0, 0, 0, 0, 0, 0, 0, -q^2, 0, 0, 0, 0, 0, 0, 0, 0, 0, 0, 0, 0, 0, 0, 0, 0, 0, 0, 0, 0, 0, q^3, 0, -1/q^4, 0, q^(-3), 0, 0, 0, 0, 0),\n",
       " (0, 0, 0, 0, 0, 0, 0, 0, 0, 0, 0, 0, 0, 0, 0, 0, 0, 0, -1, 0, 1, 0, 0, 0, 0, 0, 0, 0, 0, 0, 0, 0, 1, 0, -1, 0, 0, 0, 0, 0, 0),\n",
       " (0, 0, 0, 0, 0, 0, 0, 0, 0, q^3, 0, 0, 0, 0, 0, 0, 0, 0, 0, 0, 0, 0, 0, 0, 0, 0, 0, 0, 0, 0, 0, -1/q^2, 0, q^(-3), 0, -q^4, 0, 0, 0, 0, 0),\n",
       " (0, 0, 0, 0, 0, 0, 0, 0, 0, 0, 0, 0, 0, 0, 0, 0, 0, 0, q^3, 0, -q^3, 0, 0, 0, 0, 0, 0, 0, 0, 0, 0, 0, -1/q^3, 0, q^(-3), 0, 0, 0, 0, 0, 0),\n",
       " (0, 0, 0, 0, 0, 0, 0, 0, 0, 0, -q^2, 0, 0, 0, 0, 0, 0, 0, q^2, 0, 0, 0, 0, 0, 0, 0, 0, 0, 0, 0, 0, 0, 0, 0, -1/q^4, 0, q^(-2), 0, 0, 0, 0),\n",
       " (0, 0, 0, 0, 0, 0, 0, 0, 0, -1, 0, 0, 0, 0, 0, 0, 0, 0, 0, 1, 0, 1, 0, 0, 0, 0, 0, 0, 0, 0, 0, 0, 0, 0, 0, -1, 0, 0, 0, 0, 0),\n",
       " (0, 0, 0, 0, 0, 0, 0, 0, 0, 0, q^2, 0, 0, 0, 0, 0, 0, 0, -1/q^2, 0, 0, 0, 0, 0, 0, 0, 0, 0, 0, 0, 0, 0, 0, 0, q^(-2), 0, -q^4, 0, 0, 0, 0),\n",
       " (0, 0, 0, 0, 0, 0, 0, 0, 0, q^2, 0, 0, 0, 0, 0, 0, 0, 0, 0, -1/q^3, 0, -q^3, 0, 0, 0, 0, 0, 0, 0, 0, 0, 0, 0, 0, 0, q^(-2), 0, 0, 0, 0, 0),\n",
       " (0, 0, 0, 0, 0, 0, 0, 0, 0, q, 0, -q^2, 0, 0, 0, 0, 0, 0, 0, 0, 0, 0, 0, 0, 0, 0, 0, 0, 0, 0, 0, 0, 0, 0, 0, -1/q^4, 0, 1/q, 0, 0, 0),\n",
       " (0, 0, 0, 0, 0, 0, 0, 0, 0, 0, -1, 0, 0, 0, 0, 0, 0, 0, 0, 0, 1, 0, 1, 0, 0, 0, 0, 0, 0, 0, 0, 0, 0, 0, 0, 0, -1, 0, 0, 0, 0),\n",
       " (0, 0, 0, 0, 0, 0, 0, 0, 0, -1/q^2, 0, q, 0, 0, 0, 0, 0, 0, 0, 0, 0, 0, 0, 0, 0, 0, 0, 0, 0, 0, 0, 0, 0, 0, 0, 1/q, 0, -q^4, 0, 0, 0),\n",
       " (0, 0, 0, 0, 0, 0, 0, 0, 0, 0, q, 0, 0, 0, 0, 0, 0, 0, 0, 0, -1/q^3, 0, -q^3, 0, 0, 0, 0, 0, 0, 0, 0, 0, 0, 0, 0, 0, 1/q, 0, 0, 0, 0),\n",
       " (0, 0, 0, 0, 0, 0, 0, 0, 0, 0, 1, 0, -q^2, 0, 0, 0, 0, 0, 0, 0, 0, 0, 0, 0, 0, 0, 0, 0, 0, 0, 0, 0, 0, 0, 0, 0, -1/q^4, 0, 1, 0, 0),\n",
       " (0, 0, 0, 0, 0, 0, 0, 0, 0, 0, 0, -1, 0, 0, 0, 0, 0, 0, 0, 0, 0, 1, 0, 1, 0, 0, 0, 0, 0, 0, 0, 0, 0, 0, 0, 0, 0, -1, 0, 0, 0),\n",
       " (0, 0, 0, 0, 0, 0, 0, 0, 0, 0, -1/q^2, 0, 1, 0, 0, 0, 0, 0, 0, 0, 0, 0, 0, 0, 0, 0, 0, 0, 0, 0, 0, 0, 0, 0, 0, 0, 1, 0, -q^4, 0, 0),\n",
       " (0, 0, 0, 0, 0, 0, 0, 0, 0, 0, 0, 1, 0, 0, 0, 0, 0, 0, 0, 0, 0, -1/q^3, 0, -q^3, 0, 0, 0, 0, 0, 0, 0, 0, 0, 0, 0, 0, 0, 1, 0, 0, 0),\n",
       " (0, 0, 0, 0, 0, 0, 0, 0, 0, 0, 0, 0, -1, 0, 0, 0, 0, 0, 0, 0, 0, 0, 1, 0, 1, 0, 0, 0, 0, 0, 0, 0, 0, 0, 0, 0, 0, 0, -1, 0, 0),\n",
       " (0, 0, 0, 0, 0, 0, 0, 0, 0, 0, 0, 0, 1/q, 0, 0, 0, 0, 0, 0, 0, 0, 0, -1/q^3, 0, -q^3, 0, 0, 0, 0, 0, 0, 0, 0, 0, 0, 0, 0, 0, q, 0, 0)]"
      ]
     },
     "execution_count": 7,
     "metadata": {},
     "output_type": "execute_result"
    }
   ],
   "source": [
    "list(rels_lvl_4.values())"
   ]
  },
  {
   "cell_type": "code",
   "execution_count": 8,
   "metadata": {},
   "outputs": [],
   "source": [
    "A = matrix(K, list(rels_lvl_4.values()))"
   ]
  },
  {
   "cell_type": "code",
   "execution_count": 9,
   "metadata": {},
   "outputs": [
    {
     "data": {
      "text/plain": [
       "41"
      ]
     },
     "execution_count": 9,
     "metadata": {},
     "output_type": "execute_result"
    }
   ],
   "source": [
    "len(A[0])"
   ]
  },
  {
   "cell_type": "code",
   "execution_count": 10,
   "metadata": {},
   "outputs": [],
   "source": [
    "ordering = order_by_shell_level(4)"
   ]
  },
  {
   "cell_type": "code",
   "execution_count": 11,
   "metadata": {},
   "outputs": [],
   "source": [
    "vects = [vector(K, [1 if i == ordering[p] else 0 for i in range(41)]) for p in pts]"
   ]
  },
  {
   "cell_type": "code",
   "execution_count": 12,
   "metadata": {},
   "outputs": [],
   "source": [
    "A_aug = block_matrix([[A], [matrix(vects[0])]])"
   ]
  },
  {
   "cell_type": "code",
   "execution_count": 13,
   "metadata": {},
   "outputs": [],
   "source": [
    "A_aug_rref = A_aug.rref()"
   ]
  },
  {
   "cell_type": "code",
   "execution_count": 25,
   "metadata": {
    "scrolled": true
   },
   "outputs": [
    {
     "data": {
      "text/plain": [
       "34"
      ]
     },
     "execution_count": 25,
     "metadata": {},
     "output_type": "execute_result"
    }
   ],
   "source": [
    "len(A_aug_rref.pivots())"
   ]
  },
  {
   "cell_type": "code",
   "execution_count": 19,
   "metadata": {},
   "outputs": [],
   "source": [
    "A = matrix(QQ, [[1, 0, 0], [0, 1, 0], [3, 2, 1]])"
   ]
  },
  {
   "cell_type": "code",
   "execution_count": 20,
   "metadata": {},
   "outputs": [
    {
     "data": {
      "text/plain": [
       "(0, 1, 2)"
      ]
     },
     "execution_count": 20,
     "metadata": {},
     "output_type": "execute_result"
    }
   ],
   "source": [
    "A.pivots()"
   ]
  },
  {
   "cell_type": "code",
   "execution_count": 3,
   "metadata": {},
   "outputs": [
    {
     "name": "stdout",
     "output_type": "stream",
     "text": [
      "Calculating relations for level 4 (41 lattice points) ...\n",
      "Found 176 (non-independent) relations. Reducing ...\n",
      "Calculating relations for level 3 (25 lattice points) ...\n",
      "Found 76 (non-independent) relations. Reducing ...\n",
      "Calculating relations for level 2 (13 lattice points) ...\n",
      "Found 24 (non-independent) relations. Reducing ...\n",
      "Calculating relations for level 1 (5 lattice points) ...\n",
      "Found 4 (non-independent) relations.\n",
      "\n",
      "Dimension estimate for empty skein part at level 1: 3.\n",
      "\n",
      "Visualisation:\n",
      "\n",
      "x x . \n",
      "- x - \n",
      ". | . \n",
      "\n",
      "Dimension estimate for empty skein part at level 2: 4.\n",
      "\n",
      "Visualisation:\n",
      "\n",
      ". x | . . \n",
      ". x x . . \n",
      "- - x - - \n",
      ". . | . . \n",
      ". . | . . \n",
      "\n",
      "Dimension estimate for empty skein part at level 3: 4.\n",
      "\n",
      "Visualisation:\n",
      "\n",
      ". . . | . . . \n",
      ". . x | . . . \n",
      ". . x x . . . \n",
      "- - - x - - - \n",
      ". . . | . . . \n",
      ". . . | . . . \n",
      ". . . | . . . \n",
      "\n",
      "Dimension estimate for empty skein part at level 4: 4.\n",
      "\n",
      "Visualisation:\n",
      "\n",
      ". . . . | . . . . \n",
      ". . . . | . . . . \n",
      ". . . x | . . . . \n",
      ". . . x x . . . . \n",
      "- - - - x - - - - \n",
      ". . . . | . . . . \n",
      ". . . . | . . . . \n",
      ". . . . | . . . . \n",
      ". . . . | . . . . \n",
      "\n"
     ]
    },
    {
     "data": {
      "text/plain": [
       "(280 x 41 sparse matrix over Fraction Field of Sparse Univariate Polynomial Ring in q over Rational Field,\n",
       " 280 x 41 sparse matrix over Fraction Field of Sparse Univariate Polynomial Ring in q over Rational Field,\n",
       " [3, 4, 4, 4])"
      ]
     },
     "execution_count": 3,
     "metadata": {},
     "output_type": "execute_result"
    }
   ],
   "source": [
    "compute_reduced_matrix(S, 4, True)"
   ]
  },
  {
   "cell_type": "code",
   "execution_count": 4,
   "metadata": {},
   "outputs": [],
   "source": [
    "ordering = order_by_shell_level(3)"
   ]
  },
  {
   "cell_type": "code",
   "execution_count": 5,
   "metadata": {},
   "outputs": [],
   "source": [
    "pts = [(-3, 3), (-2, 3), (-1, 2), (-1, 1), (0, 1), (0, 0), (3, -1), (3, -2)]"
   ]
  },
  {
   "cell_type": "code",
   "execution_count": 16,
   "metadata": {},
   "outputs": [],
   "source": [
    "vect_pts = [vector(ZZ, p, immutable=True) for p in pts]"
   ]
  },
  {
   "cell_type": "code",
   "execution_count": 6,
   "metadata": {},
   "outputs": [
    {
     "data": {
      "text/plain": [
       "25"
      ]
     },
     "execution_count": 6,
     "metadata": {},
     "output_type": "execute_result"
    }
   ],
   "source": [
    "len(ordering)"
   ]
  },
  {
   "cell_type": "code",
   "execution_count": 7,
   "metadata": {},
   "outputs": [
    {
     "data": {
      "text/plain": [
       "41"
      ]
     },
     "execution_count": 7,
     "metadata": {},
     "output_type": "execute_result"
    }
   ],
   "source": [
    "len(order_by_shell_level(4))"
   ]
  },
  {
   "cell_type": "code",
   "execution_count": 17,
   "metadata": {},
   "outputs": [],
   "source": [
    "vects = [vector(K, [1 if i == ordering[p] else 0 for i in range(41)]) for p in vect_pts]"
   ]
  },
  {
   "cell_type": "code",
   "execution_count": 10,
   "metadata": {},
   "outputs": [
    {
     "ename": "KeyError",
     "evalue": "(-3, 3)",
     "output_type": "error",
     "traceback": [
      "\u001b[0;31m---------------------------------------------------------------------------\u001b[0m",
      "\u001b[0;31mKeyError\u001b[0m                                  Traceback (most recent call last)",
      "\u001b[0;32m<ipython-input-10-f5f5ddbc8305>\u001b[0m in \u001b[0;36m<module>\u001b[0;34m\u001b[0m\n\u001b[0;32m----> 1\u001b[0;31m \u001b[0mordering\u001b[0m\u001b[0;34m[\u001b[0m\u001b[0;34m(\u001b[0m\u001b[0;34m-\u001b[0m\u001b[0mInteger\u001b[0m\u001b[0;34m(\u001b[0m\u001b[0;36m3\u001b[0m\u001b[0;34m)\u001b[0m\u001b[0;34m,\u001b[0m \u001b[0mInteger\u001b[0m\u001b[0;34m(\u001b[0m\u001b[0;36m3\u001b[0m\u001b[0;34m)\u001b[0m\u001b[0;34m)\u001b[0m\u001b[0;34m]\u001b[0m\u001b[0;34m\u001b[0m\u001b[0;34m\u001b[0m\u001b[0m\n\u001b[0m",
      "\u001b[0;31mKeyError\u001b[0m: (-3, 3)"
     ]
    }
   ],
   "source": [
    "A = "
   ]
  },
  {
   "cell_type": "code",
   "execution_count": 13,
   "metadata": {},
   "outputs": [
    {
     "name": "stdout",
     "output_type": "stream",
     "text": [
      "<class 'sage.modules.vector_integer_dense.Vector_integer_dense'>\n",
      "<class 'sage.modules.vector_integer_dense.Vector_integer_dense'>\n",
      "<class 'sage.modules.vector_integer_dense.Vector_integer_dense'>\n",
      "<class 'sage.modules.vector_integer_dense.Vector_integer_dense'>\n",
      "<class 'sage.modules.vector_integer_dense.Vector_integer_dense'>\n",
      "<class 'sage.modules.vector_integer_dense.Vector_integer_dense'>\n",
      "<class 'sage.modules.vector_integer_dense.Vector_integer_dense'>\n",
      "<class 'sage.modules.vector_integer_dense.Vector_integer_dense'>\n",
      "<class 'sage.modules.vector_integer_dense.Vector_integer_dense'>\n",
      "<class 'sage.modules.vector_integer_dense.Vector_integer_dense'>\n",
      "<class 'sage.modules.vector_integer_dense.Vector_integer_dense'>\n",
      "<class 'sage.modules.vector_integer_dense.Vector_integer_dense'>\n",
      "<class 'sage.modules.vector_integer_dense.Vector_integer_dense'>\n",
      "<class 'sage.modules.vector_integer_dense.Vector_integer_dense'>\n",
      "<class 'sage.modules.vector_integer_dense.Vector_integer_dense'>\n",
      "<class 'sage.modules.vector_integer_dense.Vector_integer_dense'>\n",
      "<class 'sage.modules.vector_integer_dense.Vector_integer_dense'>\n",
      "<class 'sage.modules.vector_integer_dense.Vector_integer_dense'>\n",
      "<class 'sage.modules.vector_integer_dense.Vector_integer_dense'>\n",
      "<class 'sage.modules.vector_integer_dense.Vector_integer_dense'>\n",
      "<class 'sage.modules.vector_integer_dense.Vector_integer_dense'>\n",
      "<class 'sage.modules.vector_integer_dense.Vector_integer_dense'>\n",
      "<class 'sage.modules.vector_integer_dense.Vector_integer_dense'>\n",
      "<class 'sage.modules.vector_integer_dense.Vector_integer_dense'>\n",
      "<class 'sage.modules.vector_integer_dense.Vector_integer_dense'>\n"
     ]
    }
   ],
   "source": [
    "for i in ordering.keys():\n",
    "    print(type(i))"
   ]
  },
  {
   "cell_type": "code",
   "execution_count": 22,
   "metadata": {},
   "outputs": [],
   "source": [
    "T = matrix(K, [[1, 1], [0, 1]])"
   ]
  },
  {
   "cell_type": "code",
   "execution_count": 24,
   "metadata": {},
   "outputs": [
    {
     "name": "stdout",
     "output_type": "stream",
     "text": [
      "Calculating relations for level 8 (145 lattice points) ...\n",
      "Found 617 (non-independent) relations. Reducing ...\n",
      "Calculating relations for level 7 (113 lattice points) ...\n",
      "Found 410 (non-independent) relations. Reducing ...\n",
      "Calculating relations for level 6 (85 lattice points) ...\n",
      "Found 260 (non-independent) relations. Reducing ...\n",
      "Calculating relations for level 5 (61 lattice points) ...\n",
      "Found 147 (non-independent) relations. Reducing ...\n",
      "Calculating relations for level 4 (41 lattice points) ...\n",
      "Found 78 (non-independent) relations. Reducing ...\n",
      "Calculating relations for level 3 (25 lattice points) ...\n",
      "Found 30 (non-independent) relations. Reducing ...\n",
      "Calculating relations for level 2 (13 lattice points) ...\n",
      "Found 9 (non-independent) relations. Reducing ...\n",
      "Calculating relations for level 1 (5 lattice points) ...\n",
      "Found 1 (non-independent) relations.\n",
      "\n",
      "Dimension estimate for empty skein part at level 1: 4.\n",
      "\n",
      "Visualisation:\n",
      "\n",
      "x x . \n",
      "- x x \n",
      ". | . \n",
      "\n",
      "Dimension estimate for empty skein part at level 2: 5.\n",
      "\n",
      "Visualisation:\n",
      "\n",
      ". . | . . \n",
      ". x x . . \n",
      "- - x x - \n",
      ". . | . x \n",
      ". . | . . \n",
      "\n",
      "Dimension estimate for empty skein part at level 3: 2.\n",
      "\n",
      "Visualisation:\n",
      "\n",
      ". . . | . . . \n",
      ". . . | . . . \n",
      ". . . | . . . \n",
      "- - - x - - - \n",
      ". . . | . . . \n",
      ". . . | . . x \n",
      ". . . | . . . \n",
      "\n",
      "Dimension estimate for empty skein part at level 4: 1.\n",
      "\n",
      "Visualisation:\n",
      "\n",
      ". . . . | . . . . \n",
      ". . . . | . . . . \n",
      ". . . . | . . . . \n",
      ". . . . | . . . . \n",
      "- - - - + - - - - \n",
      ". . . . | . . . . \n",
      ". . . . | . . . . \n",
      ". . . . | . . . x \n",
      ". . . . | . . . . \n",
      "\n",
      "Dimension estimate for empty skein part at level 5: 2.\n",
      "\n",
      "Visualisation:\n",
      "\n",
      ". . . . . | . . . . . \n",
      ". . . . . | . . . . . \n",
      ". . . . . | . . . . . \n",
      ". . . . . | . . . . . \n",
      ". . . . . | . . . . . \n",
      "- - - - - + - - - - - \n",
      ". . . . . | . . . . . \n",
      ". . . . . | . . . . . \n",
      ". . . . . | . . . x . \n",
      ". . . . . | . . . . x \n",
      ". . . . . | . . . . . \n",
      "\n",
      "Dimension estimate for empty skein part at level 6: 2.\n",
      "\n",
      "Visualisation:\n",
      "\n",
      ". . . . . . | . . . . . . \n",
      ". . . . . . | . . . . . . \n",
      ". . . . . . | . . . . . . \n",
      ". . . . . . | . . . . . . \n",
      ". . . . . . | . . . . . . \n",
      ". . . . . . | . . . . . . \n",
      "- - - - - - + - - - - - - \n",
      ". . . . . . | . . . . . . \n",
      ". . . . . . | . . . . . . \n",
      ". . . . . . | . . . . . . \n",
      ". . . . . . | . . . . x . \n",
      ". . . . . . | . . . . . x \n",
      ". . . . . . | . . . . . . \n",
      "\n",
      "Dimension estimate for empty skein part at level 7: 2.\n",
      "\n",
      "Visualisation:\n",
      "\n",
      ". . . . . . . | . . . . . . . \n",
      ". . . . . . . | . . . . . . . \n",
      ". . . . . . . | . . . . . . . \n",
      ". . . . . . . | . . . . . . . \n",
      ". . . . . . . | . . . . . . . \n",
      ". . . . . . . | . . . . . . . \n",
      ". . . . . . . | . . . . . . . \n",
      "- - - - - - - + - - - - - - - \n",
      ". . . . . . . | . . . . . . . \n",
      ". . . . . . . | . . . . . . . \n",
      ". . . . . . . | . . . . . . . \n",
      ". . . . . . . | . . . . . . . \n",
      ". . . . . . . | . . . . . x . \n",
      ". . . . . . . | . . . . . . x \n",
      ". . . . . . . | . . . . . . . \n",
      "\n",
      "Dimension estimate for empty skein part at level 8: 2.\n",
      "\n",
      "Visualisation:\n",
      "\n",
      ". . . . . . . . | . . . . . . . . \n",
      ". . . . . . . . | . . . . . . . . \n",
      ". . . . . . . . | . . . . . . . . \n",
      ". . . . . . . . | . . . . . . . . \n",
      ". . . . . . . . | . . . . . . . . \n",
      ". . . . . . . . | . . . . . . . . \n",
      ". . . . . . . . | . . . . . . . . \n",
      ". . . . . . . . | . . . . . . . . \n",
      "- - - - - - - - + - - - - - - - - \n",
      ". . . . . . . . | . . . . . . . . \n",
      ". . . . . . . . | . . . . . . . . \n",
      ". . . . . . . . | . . . . . . . . \n",
      ". . . . . . . . | . . . . . . . . \n",
      ". . . . . . . . | . . . . . . . . \n",
      ". . . . . . . . | . . . . . . x . \n",
      ". . . . . . . . | . . . . . . . x \n",
      ". . . . . . . . | . . . . . . . . \n",
      "\n"
     ]
    },
    {
     "data": {
      "text/plain": [
       "(1552 x 145 sparse matrix over Fraction Field of Sparse Univariate Polynomial Ring in q over Rational Field,\n",
       " 1552 x 145 sparse matrix over Fraction Field of Sparse Univariate Polynomial Ring in q over Rational Field,\n",
       " [4, 5, 2, 1, 2, 2, 2, 2])"
      ]
     },
     "execution_count": 24,
     "metadata": {},
     "output_type": "execute_result"
    }
   ],
   "source": [
    "compute_reduced_matrix(T, 8, True)"
   ]
  },
  {
   "cell_type": "code",
   "execution_count": null,
   "metadata": {},
   "outputs": [],
   "source": []
  }
 ],
 "metadata": {
  "kernelspec": {
   "display_name": "SageMath 9.2",
   "language": "sage",
   "name": "sagemath"
  },
  "language_info": {
   "codemirror_mode": {
    "name": "ipython",
    "version": 3
   },
   "file_extension": ".py",
   "mimetype": "text/x-python",
   "name": "python",
   "nbconvert_exporter": "python",
   "pygments_lexer": "ipython3",
   "version": "3.8.5"
  }
 },
 "nbformat": 4,
 "nbformat_minor": 4
}
