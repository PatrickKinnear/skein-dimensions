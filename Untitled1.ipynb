{
 "cells": [
  {
   "cell_type": "code",
   "execution_count": 1,
   "metadata": {},
   "outputs": [],
   "source": [
    "load(\"skeinslib.sage\")"
   ]
  },
  {
   "cell_type": "code",
   "execution_count": 2,
   "metadata": {},
   "outputs": [
    {
     "data": {
      "text/plain": [
       "[ 0 -1]\n",
       "[ 1  0]"
      ]
     },
     "execution_count": 2,
     "metadata": {},
     "output_type": "execute_result"
    }
   ],
   "source": [
    "S = matrix(ZZ, 2, [0, -1, 1, 0])\n",
    "S"
   ]
  },
  {
   "cell_type": "code",
   "execution_count": 3,
   "metadata": {},
   "outputs": [
    {
     "data": {
      "text/plain": [
       "[1 1]\n",
       "[0 1]"
      ]
     },
     "execution_count": 3,
     "metadata": {},
     "output_type": "execute_result"
    }
   ],
   "source": [
    "T = matrix(ZZ, 2, [1, 1, 0, 1])\n",
    "T"
   ]
  },
  {
   "cell_type": "code",
   "execution_count": 12,
   "metadata": {},
   "outputs": [
    {
     "data": {
      "text/plain": [
       "[(1, (-2, 3)), (1, (2, -1)), (-1, (3, -2)), (-1, (-1, 2))]"
      ]
     },
     "execution_count": 12,
     "metadata": {},
     "output_type": "execute_result"
    }
   ],
   "source": [
    "get_relation(S, vector(ZZ, [-2, 2], immutable=True), vector(ZZ, [0, 1], immutable=True))"
   ]
  },
  {
   "cell_type": "code",
   "execution_count": 16,
   "metadata": {},
   "outputs": [
    {
     "data": {
      "text/plain": [
       "[(sqq^4, (3, -2)), (sqq^(-4), (-1, 2)), (-1/sqq^4, (2, -1)), (-sqq^4, (-2, 3))]"
      ]
     },
     "execution_count": 16,
     "metadata": {},
     "output_type": "execute_result"
    }
   ],
   "source": [
    "get_relation(S, vector(ZZ, [-2, 2], immutable=True), vector(ZZ, [-1, 0], immutable=True))"
   ]
  },
  {
   "cell_type": "code",
   "execution_count": 18,
   "metadata": {},
   "outputs": [
    {
     "data": {
      "text/plain": [
       "[(sqq^4, (3, -2)), (sqq^(-4), (-1, 2)), (-1/sqq^4, (2, -1)), (-sqq^4, (-2, 3))]"
      ]
     },
     "execution_count": 18,
     "metadata": {},
     "output_type": "execute_result"
    }
   ],
   "source": [
    "get_relation(S, vector(ZZ, [2, -2], immutable=True), vector(ZZ, [1, 0], immutable=True))"
   ]
  },
  {
   "cell_type": "code",
   "execution_count": 9,
   "metadata": {},
   "outputs": [
    {
     "data": {
      "text/plain": [
       "[(1, (5, 0)), (1, (5, 2)), (-sqq^4, (1, 0)), (-1/sqq^16, (11, 2))]"
      ]
     },
     "execution_count": 9,
     "metadata": {},
     "output_type": "execute_result"
    }
   ],
   "source": [
    "get_relation(T**6, vector(ZZ, [5, 1], immutable=True), vector(ZZ, [0, -1], immutable=True))"
   ]
  },
  {
   "cell_type": "code",
   "execution_count": 21,
   "metadata": {},
   "outputs": [
    {
     "data": {
      "text/plain": [
       "[(1, (2, 0)), (1, (2, 2)), (-sqq^2, (0, 0)), (-1/sqq^6, (4, 2))]"
      ]
     },
     "execution_count": 21,
     "metadata": {},
     "output_type": "execute_result"
    }
   ],
   "source": [
    "get_relation(T**2, vector(ZZ, [2, 1], immutable=True), vector(ZZ, [0, -1], immutable=True))"
   ]
  },
  {
   "cell_type": "code",
   "execution_count": 22,
   "metadata": {},
   "outputs": [
    {
     "name": "stdout",
     "output_type": "stream",
     "text": [
      "Calculating relations for level 5 (61 lattice points) ...\n",
      "Found 250 (non-independent) relations. Reducing ...\n",
      "Calculating relations for level 4 (41 lattice points) ...\n",
      "Found 128 (non-independent) relations. Reducing ...\n",
      "Calculating relations for level 3 (25 lattice points) ...\n",
      "Found 54 (non-independent) relations. Reducing ...\n",
      "Calculating relations for level 2 (13 lattice points) ...\n",
      "Found 16 (non-independent) relations. Reducing ...\n",
      "Calculating relations for level 1 (5 lattice points) ...\n",
      "Found 2 (non-independent) relations.\n",
      "\n",
      "Dimension estimate for empty skein part at level 1: 4.\n",
      "\n",
      "Visualisation:\n",
      "\n",
      "x x . \n",
      "- x x \n",
      ". | . \n",
      "\n",
      "Dimension estimate for empty skein part at level 2: 6.\n",
      "\n",
      "Visualisation:\n",
      "\n",
      "x x | . . \n",
      ". x x . . \n",
      "- - x x - \n",
      ". . | . . \n",
      ". . | . . \n",
      "\n",
      "Dimension estimate for empty skein part at level 3: 6.\n",
      "\n",
      "Visualisation:\n",
      "\n",
      ". . . | . . . \n",
      ". x x | . . . \n",
      ". . x x . . . \n",
      "- - - x x - - \n",
      ". . . | . . . \n",
      ". . . | . . . \n",
      ". . . | . . . \n",
      "\n",
      "Dimension estimate for empty skein part at level 4: 6.\n",
      "\n",
      "Visualisation:\n",
      "\n",
      ". . . . | . . . . \n",
      ". . . . | . . . . \n",
      ". . x x | . . . . \n",
      ". . . x x . . . . \n",
      "- - - - x x - - - \n",
      ". . . . | . . . . \n",
      ". . . . | . . . . \n",
      ". . . . | . . . . \n",
      ". . . . | . . . . \n",
      "\n",
      "Dimension estimate for empty skein part at level 5: 6.\n",
      "\n",
      "Visualisation:\n",
      "\n",
      ". . . . . | . . . . . \n",
      ". . . . . | . . . . . \n",
      ". . . . . | . . . . . \n",
      ". . . x x | . . . . . \n",
      ". . . . x x . . . . . \n",
      "- - - - - x x - - - - \n",
      ". . . . . | . . . . . \n",
      ". . . . . | . . . . . \n",
      ". . . . . | . . . . . \n",
      ". . . . . | . . . . . \n",
      ". . . . . | . . . . . \n",
      "\n"
     ]
    },
    {
     "data": {
      "text/plain": [
       "(450 x 61 sparse matrix over Fraction Field of Sparse Univariate Polynomial Ring in sqq over Rational Field,\n",
       " 450 x 61 sparse matrix over Fraction Field of Sparse Univariate Polynomial Ring in sqq over Rational Field,\n",
       " [4, 6, 6, 6, 6])"
      ]
     },
     "execution_count": 22,
     "metadata": {},
     "output_type": "execute_result"
    }
   ],
   "source": [
    "compute_reduced_matrix(T**2, 5, True)"
   ]
  },
  {
   "cell_type": "code",
   "execution_count": 23,
   "metadata": {},
   "outputs": [],
   "source": [
    "rels = get_relations_empty(T**2, 2, order_by_shell_level)"
   ]
  },
  {
   "cell_type": "code",
   "execution_count": 29,
   "metadata": {},
   "outputs": [
    {
     "data": {
      "text/plain": [
       "{((0, 0), (-1, 1)): (0, 2, 0, -2/sqq^2, 0, 0, 0, 0, 0, 0, 0, 0, 0),\n",
       " ((0, 0), (0, 1)): (0, 0, 2, 0, 0, 0, 0, 0, 0, 0, -2/sqq^2, 0, 0),\n",
       " ((0, 0), (-2, 2)): (0, 0, 0, 0, 0, 2, 0, 0, 0, -2/sqq^8, 0, 0, 0),\n",
       " ((0, 0), (2, -1)): (0, 0, -2/sqq^2, 0, 0, 0, 0, 0, 0, 0, 0, 0, 2),\n",
       " ((-1, 1),\n",
       "  (-1, 1)): (sqq^(-2), 0, 0, 0, 0, sqq^2, 0, -1, 0, 0, 0, -1/sqq^4, 0),\n",
       " ((-1, 1), (1, 0)): (0, 0, 1/sqq^2 - 1, 0, 0, 0, 0, 0, 0, 0, 0, 0, sqq^2 - 1),\n",
       " ((0, 1), (-1, 1)): (0, 0, 0, 0, 0, 0, sqq^2, 0, -1/sqq^2, 0, 0, 0, 0),\n",
       " ((0, 1), (0, 1)): (1, 0, 0, 0, 0, 0, 0, 1, 0, -1/sqq^2, 0, -1/sqq^2, 0),\n",
       " ((0, 1), (1, 0)): (0, sqq^2 - 1, 0, 1/sqq^2 - 1, 0, 0, 0, 0, 0, 0, 0, 0, 0),\n",
       " ((0, 1), (2, 0)): (0, 0, 0, 0, 0, 0, 0, 0, 0, 0, 1/sqq^4 - 1, 0, sqq^4 - 1),\n",
       " ((0, 1),\n",
       "  (2, -1)): (-1/sqq^2, 0, 0, 0, 0, sqq^4, 0, -1/sqq^2, 0, 0, 0, sqq^(-4), 0),\n",
       " ((1, 1), (-1, 1)): (-1, 0, 0, 0, 0, 0, 0, sqq^2, 0, -1/sqq^4, 0, sqq^(-2), 0),\n",
       " ((1, 1), (1, 0)): (0, 0, sqq^2 - 1, 0, 0, 0, 0, 0, 0, 0, 1/sqq^2 - 1, 0, 0),\n",
       " ((1, 0), (-1, 1)): (0, 0, 0, 0, 0, 0, 0, 0, 0, 0, -1/sqq^4, 0, 1),\n",
       " ((-1, 2), (1, 0)): (0, 0, 0, 0, 0, sqq^4 - 1, 0, 1/sqq^4 - 1, 0, 0, 0, 0, 0),\n",
       " ((0, 2), (1, 0)): (0, 0, 0, 0, 0, 0, sqq^4 - 1, 0, 1/sqq^4 - 1, 0, 0, 0, 0),\n",
       " ((0, 2), (2, 0)): (0, 0, 0, 0, 0, sqq^8 - 1, 0, 0, 0, 1/sqq^8 - 1, 0, 0, 0),\n",
       " ((1, 2), (1, 0)): (0, 0, 0, 0, 0, 0, 0, sqq^4 - 1, 0, 1/sqq^4 - 1, 0, 0, 0)}"
      ]
     },
     "execution_count": 29,
     "metadata": {},
     "output_type": "execute_result"
    }
   ],
   "source": [
    "rels"
   ]
  },
  {
   "cell_type": "code",
   "execution_count": 25,
   "metadata": {},
   "outputs": [],
   "source": [
    "ordering = order_by_shell_level(2)"
   ]
  },
  {
   "cell_type": "code",
   "execution_count": 26,
   "metadata": {},
   "outputs": [
    {
     "data": {
      "text/plain": [
       "9"
      ]
     },
     "execution_count": 26,
     "metadata": {},
     "output_type": "execute_result"
    }
   ],
   "source": [
    "ordering[vector(ZZ, [2, 2], immutable=True)]"
   ]
  },
  {
   "cell_type": "code",
   "execution_count": 32,
   "metadata": {},
   "outputs": [
    {
     "name": "stdout",
     "output_type": "stream",
     "text": [
      "((0, 0), (-2, 2)) (0, 0, 0, 0, 0, 2, 0, 0, 0, -2/sqq^8, 0, 0, 0)\n",
      "((0, 1), (0, 1)) (1, 0, 0, 0, 0, 0, 0, 1, 0, -1/sqq^2, 0, -1/sqq^2, 0)\n",
      "((1, 1), (-1, 1)) (-1, 0, 0, 0, 0, 0, 0, sqq^2, 0, -1/sqq^4, 0, sqq^(-2), 0)\n",
      "((0, 2), (2, 0)) (0, 0, 0, 0, 0, sqq^8 - 1, 0, 0, 0, 1/sqq^8 - 1, 0, 0, 0)\n",
      "((1, 2), (1, 0)) (0, 0, 0, 0, 0, 0, 0, sqq^4 - 1, 0, 1/sqq^4 - 1, 0, 0, 0)\n"
     ]
    }
   ],
   "source": [
    "for k in rels.keys():\n",
    "    if rels[k][9] != 0:\n",
    "        print(k, rels[k])"
   ]
  },
  {
   "cell_type": "code",
   "execution_count": 39,
   "metadata": {},
   "outputs": [
    {
     "data": {
      "text/plain": [
       "[(sqq^(-2), (2, 1)), (sqq^2, (0, 1)), (-1, (2, 1)), (-1, (0, 1))]"
      ]
     },
     "execution_count": 39,
     "metadata": {},
     "output_type": "execute_result"
    }
   ],
   "source": [
    "get_relation(T**4, vector(ZZ, [1, 1], immutable=True), vector(ZZ, [1, 0], immutable=True))"
   ]
  },
  {
   "cell_type": "code",
   "execution_count": null,
   "metadata": {},
   "outputs": [],
   "source": []
  }
 ],
 "metadata": {
  "kernelspec": {
   "display_name": "SageMath 9.2",
   "language": "sage",
   "name": "sagemath"
  },
  "language_info": {
   "codemirror_mode": {
    "name": "ipython",
    "version": 3
   },
   "file_extension": ".py",
   "mimetype": "text/x-python",
   "name": "python",
   "nbconvert_exporter": "python",
   "pygments_lexer": "ipython3",
   "version": "3.8.5"
  }
 },
 "nbformat": 4,
 "nbformat_minor": 4
}
