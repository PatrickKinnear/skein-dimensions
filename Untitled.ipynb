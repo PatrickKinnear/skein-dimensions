{
 "cells": [
  {
   "cell_type": "code",
   "execution_count": 2,
   "metadata": {},
   "outputs": [],
   "source": [
    "load(\"skeinslib.sage\")"
   ]
  },
  {
   "cell_type": "code",
   "execution_count": 3,
   "metadata": {},
   "outputs": [],
   "source": [
    "T = matrix(ZZ, 2, [1, 1, 0, 1])"
   ]
  },
  {
   "cell_type": "code",
   "execution_count": 4,
   "metadata": {},
   "outputs": [
    {
     "data": {
      "text/plain": [
       "[1 1]\n",
       "[0 1]"
      ]
     },
     "execution_count": 4,
     "metadata": {},
     "output_type": "execute_result"
    }
   ],
   "source": [
    "T"
   ]
  },
  {
   "cell_type": "code",
   "execution_count": 7,
   "metadata": {},
   "outputs": [
    {
     "name": "stdout",
     "output_type": "stream",
     "text": [
      "Calculating relations for level 5 (61 lattice points) ...\n",
      "Found 250 (non-independent) relations. Reducing ...\n",
      "Calculating relations for level 4 (41 lattice points) ...\n",
      "Found 128 (non-independent) relations. Reducing ...\n",
      "Calculating relations for level 3 (25 lattice points) ...\n",
      "Found 54 (non-independent) relations. Reducing ...\n",
      "Calculating relations for level 2 (13 lattice points) ...\n",
      "Found 16 (non-independent) relations. Reducing ...\n",
      "Calculating relations for level 1 (5 lattice points) ...\n",
      "Found 2 (non-independent) relations.\n",
      "\n",
      "Dimension estimate for empty skein part at level 1: 4.\n",
      "\n",
      "Visualisation:\n",
      "\n",
      "x x . \n",
      "- x x \n",
      ". | . \n",
      "\n",
      "Dimension estimate for empty skein part at level 2: 6.\n",
      "\n",
      "Visualisation:\n",
      "\n",
      "x x | . . \n",
      ". x x . . \n",
      "- - x x - \n",
      ". . | . . \n",
      ". . | . . \n",
      "\n",
      "Dimension estimate for empty skein part at level 3: 6.\n",
      "\n",
      "Visualisation:\n",
      "\n",
      ". . . | . . . \n",
      ". x x | . . . \n",
      ". . x x . . . \n",
      "- - - x x - - \n",
      ". . . | . . . \n",
      ". . . | . . . \n",
      ". . . | . . . \n",
      "\n",
      "Dimension estimate for empty skein part at level 4: 6.\n",
      "\n",
      "Visualisation:\n",
      "\n",
      ". . . . | . . . . \n",
      ". . . . | . . . . \n",
      ". . x x | . . . . \n",
      ". . . x x . . . . \n",
      "- - - - x x - - - \n",
      ". . . . | . . . . \n",
      ". . . . | . . . . \n",
      ". . . . | . . . . \n",
      ". . . . | . . . . \n",
      "\n",
      "Dimension estimate for empty skein part at level 5: 6.\n",
      "\n",
      "Visualisation:\n",
      "\n",
      ". . . . . | . . . . . \n",
      ". . . . . | . . . . . \n",
      ". . . . . | . . . . . \n",
      ". . . x x | . . . . . \n",
      ". . . . x x . . . . . \n",
      "- - - - - x x - - - - \n",
      ". . . . . | . . . . . \n",
      ". . . . . | . . . . . \n",
      ". . . . . | . . . . . \n",
      ". . . . . | . . . . . \n",
      ". . . . . | . . . . . \n",
      "\n"
     ]
    }
   ],
   "source": [
    "A = compute_reduced_matrix(T**2, 5, True)"
   ]
  },
  {
   "cell_type": "code",
   "execution_count": null,
   "metadata": {},
   "outputs": [],
   "source": []
  }
 ],
 "metadata": {
  "kernelspec": {
   "display_name": "SageMath 9.2",
   "language": "sage",
   "name": "sagemath"
  },
  "language_info": {
   "codemirror_mode": {
    "name": "ipython",
    "version": 3
   },
   "file_extension": ".py",
   "mimetype": "text/x-python",
   "name": "python",
   "nbconvert_exporter": "python",
   "pygments_lexer": "ipython3",
   "version": "3.8.5"
  }
 },
 "nbformat": 4,
 "nbformat_minor": 4
}
