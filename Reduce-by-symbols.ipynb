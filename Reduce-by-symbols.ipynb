{
 "cells": [
  {
   "cell_type": "code",
   "execution_count": 1,
   "metadata": {},
   "outputs": [],
   "source": [
    "load(\"skeinslib.sage\")"
   ]
  },
  {
   "cell_type": "code",
   "execution_count": 11,
   "metadata": {},
   "outputs": [],
   "source": [
    "def is_highest(x, v, ordering):\n",
    "    for vect in x:\n",
    "        if ordering[vect] > ordering[v]:\n",
    "            return False\n",
    "    return True\n",
    "\n",
    "def get_highest(x, ordering):\n",
    "    for y in x:\n",
    "        if is_highest(x, y, ordering):\n",
    "            return y\n",
    "\n",
    "def get_symbols(gamma, shell_level, order_func):\n",
    "    '''\n",
    "    OLD DESCRIPTION\n",
    "    Returns a dict of linear relations between lattice points for a specified\n",
    "    shell level.\n",
    "\n",
    "    Each ordered pair of lattice points determines a relation between four other\n",
    "    lattice points, where lattice points correspond to generators of the empty\n",
    "    part of the skein module.\n",
    "\n",
    "    Requires integer shell_level, and function order_func : int -> (dict, list)\n",
    "    which should produce: a dictionary with keys being lattice points in a\n",
    "    certain shell level, and values being their position in some sequential\n",
    "    ordering specified by the function (this is required to map lattice points\n",
    "    to indices of vectors in the space they span); and a list of lattice points\n",
    "    in this order (required to produce the four related lattice points using\n",
    "    basic linalg).\n",
    "\n",
    "    Performs a double loop through the lattice, obtains the relation between\n",
    "    four points for each pair of points, and discards trivial or out-of-range\n",
    "    relations.\n",
    "    '''\n",
    "\n",
    "    symbols = {}\n",
    "    N = (2*shell_level + 1)*(shell_level + 1) - shell_level # Total lattice pts.\n",
    "    ordering = order_func(shell_level) # Dict and list of order\n",
    "\n",
    "    #Unpack the matrix gamma.\n",
    "    a = gamma[0, 0]\n",
    "    b = gamma[0, 1]\n",
    "    c = gamma[1, 0]\n",
    "    d = gamma[1, 1]\n",
    "\n",
    "    q = var('q') # Must be defined here to alllow compiled sage.\n",
    "\n",
    "    for p_0 in ordering.keys():\n",
    "        for p_1 in ordering.keys():\n",
    "            #Unpack the points\n",
    "            r = p_0[0]\n",
    "            s = p_0[1]\n",
    "            t = p_1[0]\n",
    "            u = p_1[1]\n",
    "\n",
    "            #A constant appearing in our coefficients, we compute it in advance\n",
    "            C = (-t*(t-1)*a*c - u*(u-1)*b*d)/2 - t*u*c*b\n",
    "\n",
    "            # The linear relation is between the four lattice points below:\n",
    "            x_0 = force_into_fundamental_domain(vector(ZZ, p_0 + p_1, immutable=True))\n",
    "            x_1 = force_into_fundamental_domain(vector(ZZ, p_0 - p_1, immutable=True))\n",
    "            x_2 = force_into_fundamental_domain(vector(ZZ, p_0 + p_1*gamma.T, immutable=True))\n",
    "            x_3 = force_into_fundamental_domain(vector(ZZ, p_0 - p_1*gamma.T, immutable=True))\n",
    "\n",
    "            # Check the relations are not out of range.\n",
    "            if x_0 in ordering.keys() and x_1 in ordering.keys() and x_2 in ordering.keys() and x_3 in ordering.keys():\n",
    "\n",
    "                # Compute the coefficients in the relation.\n",
    "                Q_0 = q**(-s*t)\n",
    "                Q_1 = q**(s*t)\n",
    "                Q_2 = -q**(C - r*(c*t + d*u))\n",
    "                Q_3 = -q**(C + r*(c*t + d*u))\n",
    "                \n",
    "                coeffs = [Q_0, Q_1, Q_2, Q_3]\n",
    "                \n",
    "                x = [x_0, x_1, x_2, x_3]\n",
    "                \n",
    "                relation = list(zip(coeffs, x))\n",
    "                \n",
    "                highest_coeffs = [r[0] if is_highest(x, r[1], ordering) else 0 for r in relation]\n",
    "                \n",
    "                coeff = sum(highest_coeffs)\n",
    "                \n",
    "                x_highest = get_highest(x, ordering)\n",
    "                \n",
    "                #rel = vector(K, [coeff if i == ordering[x_highest] else 0 for i in range(N)], sparse=True)\n",
    "\n",
    "                # Check the relation is not trivial, then append.\n",
    "                if not coeff.is_zero():\n",
    "                    symbols[(p_0, p_1)] = x_highest\n",
    "\n",
    "    return symbols\n",
    "\n",
    "def compute_from_symbols(gamma, shell_levels, order_func, interactive):\n",
    "    dimensions = []\n",
    "    for shell_level in range(shell_levels):\n",
    "        ordering = order_func(shell_level)\n",
    "        symbols = get_symbols(gamma, shell_level, order_func)\n",
    "        #print(symbols)\n",
    "        symbols = set(symbols.values())\n",
    "        lattice = set(order_func(shell_level).keys())\n",
    "        #print(lattice.difference(symbols))\n",
    "        spanning_set = [ordering[l] for l in lattice.difference(symbols)]\n",
    "        #print(symbols)\n",
    "        #print(spanning_set)\n",
    "        if interactive:\n",
    "            print(\"Dimension estimate (using symbols) for empty skein part at level %d: %d\" % (shell_level, len(spanning_set)))\n",
    "            print_generators(shell_level, spanning_set, order_func)\n",
    "        dimensions.append(len(spanning_set))\n",
    "    return dimensions\n",
    "        "
   ]
  },
  {
   "cell_type": "code",
   "execution_count": 19,
   "metadata": {},
   "outputs": [],
   "source": [
    "S = matrix(ZZ, 2, [0, -1, 1, 0])\n",
    "T = matrix(ZZ, 2, [1, 1, 0, 1])\n",
    "I = matrix(ZZ, 2, [1, 0, 0, 1])"
   ]
  },
  {
   "cell_type": "code",
   "execution_count": 71,
   "metadata": {},
   "outputs": [
    {
     "name": "stdout",
     "output_type": "stream",
     "text": [
      "Dimension estimate (using symbols) for empty skein part at level 0: 1\n",
      "x \n",
      "\n",
      "Dimension estimate (using symbols) for empty skein part at level 1: 3\n",
      "x | . \n",
      "- x x \n",
      ". | . \n",
      "\n",
      "Dimension estimate (using symbols) for empty skein part at level 2: 4\n",
      "x . | . . \n",
      ". x | . . \n",
      "- - x x - \n",
      ". . | . . \n",
      ". . | . . \n",
      "\n",
      "Dimension estimate (using symbols) for empty skein part at level 3: 5\n",
      "x . . | . . . \n",
      ". x . | . . . \n",
      ". . x | . . . \n",
      "- - - x x - - \n",
      ". . . | . . . \n",
      ". . . | . . . \n",
      ". . . | . . . \n",
      "\n",
      "Dimension estimate (using symbols) for empty skein part at level 4: 6\n",
      "x . . . | . . . . \n",
      ". x . . | . . . . \n",
      ". . x . | . . . . \n",
      ". . . x | . . . . \n",
      "- - - - x x - - - \n",
      ". . . . | . . . . \n",
      ". . . . | . . . . \n",
      ". . . . | . . . . \n",
      ". . . . | . . . . \n",
      "\n",
      "Dimension estimate (using symbols) for empty skein part at level 5: 7\n",
      "x . . . . | . . . . . \n",
      ". x . . . | . . . . . \n",
      ". . x . . | . . . . . \n",
      ". . . x . | . . . . . \n",
      ". . . . x | . . . . . \n",
      "- - - - - x x - - - - \n",
      ". . . . . | . . . . . \n",
      ". . . . . | . . . . . \n",
      ". . . . . | . . . . . \n",
      ". . . . . | . . . . . \n",
      ". . . . . | . . . . . \n",
      "\n",
      "Dimension estimate (using symbols) for empty skein part at level 6: 8\n",
      "x . . . . . | . . . . . . \n",
      ". x . . . . | . . . . . . \n",
      ". . x . . . | . . . . . . \n",
      ". . . x . . | . . . . . . \n",
      ". . . . x . | . . . . . . \n",
      ". . . . . x | . . . . . . \n",
      "- - - - - - x x - - - - - \n",
      ". . . . . . | . . . . . . \n",
      ". . . . . . | . . . . . . \n",
      ". . . . . . | . . . . . . \n",
      ". . . . . . | . . . . . . \n",
      ". . . . . . | . . . . . . \n",
      ". . . . . . | . . . . . . \n",
      "\n"
     ]
    },
    {
     "data": {
      "text/plain": [
       "[1, 3, 4, 5, 6, 7, 8]"
      ]
     },
     "execution_count": 71,
     "metadata": {},
     "output_type": "execute_result"
    }
   ],
   "source": [
    "compute_from_symbols(T, 7, order_by_shell_level, True)"
   ]
  },
  {
   "cell_type": "code",
   "execution_count": 56,
   "metadata": {},
   "outputs": [
    {
     "name": "stdout",
     "output_type": "stream",
     "text": [
      "Calculating relations for level 3 (25 lattice points) ...\n",
      "Found 76 (non-independent) relations. Reducing ...\n",
      "Calculating relations for level 2 (13 lattice points) ...\n",
      "Found 24 (non-independent) relations. Reducing ...\n",
      "Calculating relations for level 1 (5 lattice points) ...\n",
      "Found 4 (non-independent) relations.\n",
      "\n",
      "Dimension estimate for empty skein part at level 1: 3.\n",
      "\n",
      "Visualisation:\n",
      "\n",
      "x x . \n",
      "- x - \n",
      ". | . \n",
      "\n",
      "Dimension estimate for empty skein part at level 2: 4.\n",
      "\n",
      "Visualisation:\n",
      "\n",
      ". x | . . \n",
      ". x x . . \n",
      "- - x - - \n",
      ". . | . . \n",
      ". . | . . \n",
      "\n",
      "Dimension estimate for empty skein part at level 3: 4.\n",
      "\n",
      "Visualisation:\n",
      "\n",
      ". . . | . . . \n",
      ". . x | . . . \n",
      ". . x x . . . \n",
      "- - - x - - - \n",
      ". . . | . . . \n",
      ". . . | . . . \n",
      ". . . | . . . \n",
      "\n"
     ]
    },
    {
     "data": {
      "text/plain": [
       "(104 x 25 sparse matrix over Fraction Field of Sparse Univariate Polynomial Ring in q over Rational Field,\n",
       " 104 x 25 sparse matrix over Fraction Field of Sparse Univariate Polynomial Ring in q over Rational Field,\n",
       " [3, 4, 4])"
      ]
     },
     "execution_count": 56,
     "metadata": {},
     "output_type": "execute_result"
    }
   ],
   "source": [
    "compute_reduced_matrix(, 3, True)"
   ]
  },
  {
   "cell_type": "code",
   "execution_count": 26,
   "metadata": {},
   "outputs": [
    {
     "data": {
      "text/plain": [
       "<class 'list'>"
      ]
     },
     "execution_count": 26,
     "metadata": {},
     "output_type": "execute_result"
    }
   ],
   "source": [
    "type(list(get_symbols(S, 2, order_by_shell_level).values()))"
   ]
  },
  {
   "cell_type": "code",
   "execution_count": 36,
   "metadata": {},
   "outputs": [],
   "source": [
    "load(\"skeinslib.sage\")"
   ]
  },
  {
   "cell_type": "code",
   "execution_count": 37,
   "metadata": {},
   "outputs": [
    {
     "data": {
      "text/plain": [
       "I"
      ]
     },
     "execution_count": 37,
     "metadata": {},
     "output_type": "execute_result"
    }
   ],
   "source": [
    "I"
   ]
  },
  {
   "cell_type": "code",
   "execution_count": 38,
   "metadata": {},
   "outputs": [],
   "source": [
    "M_0 = matrix(ZZ, 2, [1, -1, 1, 0])\n",
    "M_1 = matrix(ZZ, 2, [0, 1, -1, 1])"
   ]
  },
  {
   "cell_type": "code",
   "execution_count": 39,
   "metadata": {},
   "outputs": [
    {
     "name": "stdout",
     "output_type": "stream",
     "text": [
      "Calculating relations for level 1 (5 lattice points) ...\n",
      "Found 3 (non-independent) relations.\n",
      "\n",
      "Dimension estimate for empty skein part at level 1: 3.\n",
      "\n",
      "Visualisation:\n",
      "\n",
      "x | . \n",
      "- x x \n",
      ". | . \n",
      "\n"
     ]
    },
    {
     "data": {
      "text/plain": [
       "(\n",
       "[                 0                  2             -2/sqq                  0                  0]\n",
       "[                 0                  0                  2             -2/sqq                  0]\n",
       "[                 0          sqq^2 - 1                  0 (-sqq^2 + 1)/sqq^2                  0],\n",
       "\n",
       "[       0        1        0 -1/sqq^2        0]     \n",
       "[       0        0        1   -1/sqq        0]     \n",
       "[       0        0        0        0        0], [3]\n",
       ")"
      ]
     },
     "execution_count": 39,
     "metadata": {},
     "output_type": "execute_result"
    }
   ],
   "source": [
    "compute_reduced_matrix(T, 1, True)"
   ]
  },
  {
   "cell_type": "code",
   "execution_count": 25,
   "metadata": {},
   "outputs": [
    {
     "data": {
      "text/plain": [
       "sqq + 1"
      ]
     },
     "execution_count": 25,
     "metadata": {},
     "output_type": "execute_result"
    }
   ],
   "source": [
    "(1 + sqrt(sqq**2)).canonicalize_radical()"
   ]
  },
  {
   "cell_type": "code",
   "execution_count": 7,
   "metadata": {},
   "outputs": [
    {
     "data": {
      "text/plain": [
       "1/sqq"
      ]
     },
     "execution_count": 7,
     "metadata": {},
     "output_type": "execute_result"
    }
   ],
   "source": [
    "sqq/(sqq**2)"
   ]
  },
  {
   "cell_type": "code",
   "execution_count": null,
   "metadata": {},
   "outputs": [],
   "source": []
  }
 ],
 "metadata": {
  "kernelspec": {
   "display_name": "SageMath 9.2",
   "language": "sage",
   "name": "sagemath"
  },
  "language_info": {
   "codemirror_mode": {
    "name": "ipython",
    "version": 3
   },
   "file_extension": ".py",
   "mimetype": "text/x-python",
   "name": "python",
   "nbconvert_exporter": "python",
   "pygments_lexer": "ipython3",
   "version": "3.8.5"
  }
 },
 "nbformat": 4,
 "nbformat_minor": 4
}
